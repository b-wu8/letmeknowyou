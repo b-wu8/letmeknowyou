{
 "cells": [
  {
   "cell_type": "code",
   "execution_count": 1,
   "id": "8d86da18-f19a-450e-b761-e80caa21929a",
   "metadata": {},
   "outputs": [
    {
     "name": "stdout",
     "output_type": "stream",
     "text": [
      "Populating the interactive namespace from numpy and matplotlib\n"
     ]
    }
   ],
   "source": [
    "%pylab inline\n",
    "import numpy as np\n",
    "import pandas as pd\n",
    "import matplotlib.pyplot as plt\n",
    "import matplotlib.image as mpimg\n",
    "import PIL\n",
    "from PIL import Image\n",
    "import PIL.ImageOps\n",
    "import glob\n",
    "import os\n",
    "import matplotlib.image as mpimg\n",
    "## Data preprocessing for age and gender dataset 04/26 Kun Liang"
   ]
  },
  {
   "cell_type": "code",
   "execution_count": 2,
   "id": "877eadf0-29e0-4022-80d7-6e025dc9a0f0",
   "metadata": {},
   "outputs": [],
   "source": [
    "# DEVICE = torch.device('cuda:1' if torch.cuda.is_available() else 'cpu')\n",
    "# DEVICE"
   ]
  },
  {
   "cell_type": "code",
   "execution_count": 3,
   "id": "2388659d-4305-4c92-99f5-aaf5f19144de",
   "metadata": {},
   "outputs": [],
   "source": [
    "os.getcwd()\n",
    "data_path = os.getcwd() # '/Users/liangkun/675_Project'"
   ]
  },
  {
   "cell_type": "code",
   "execution_count": 5,
   "id": "c2dd1a7e-0a8b-46d6-af7d-f0d9a02983f3",
   "metadata": {},
   "outputs": [],
   "source": [
    "\n",
    "# website: https://talhassner.github.io/home/projects/Adience/Adience-data.html\n",
    "\n",
    "# '''\n",
    "# The dataset is composed of 5 folds to allow 5-fold 'leave one out' cross validation. To prevent overfitting, each fold contains different subjects. \n",
    "\n",
    "# Each fold is described by a csv file with 12 columns:\n",
    "\n",
    "# user_id - the folder in the dataset containing the image. \n",
    "# original_image - image name in the dataset.\n",
    "# face_id - the Face ID in the original Flickr image, can be ignored. \n",
    "# age - age label of the face.\n",
    "# gender - gender label of the face.\n",
    "# x, y, dx, dy - bounding box of the face in the original Flickr image, **can be ignored**.\n",
    "# tilt_ang, fiducial_yaw_angle - pose of the face in the original Flickr image, **can be ignored**. \n",
    "# fiducial_score - score of the landmark detector, **can be ignored**. \n",
    "\n",
    "# If you use the dataset, please cite: \n",
    "# Eran Eidinger, Roee Enbar, Tal Hassner. Age and Gender Estimation of Unfiltered Faces. Transactions on Information Forensics and Security (IEEE-TIFS), special issue on Facial Biometrics in the Wild, Volume 9, Issue 12, pages 2170 - 2179, 2014.\n",
    "# '''\n"
   ]
  },
  {
   "cell_type": "code",
   "execution_count": 4,
   "id": "d662b3d8-64c5-4680-abf3-bc472c55c431",
   "metadata": {},
   "outputs": [],
   "source": [
    "# use glob to get all .txt datasets names\n",
    "extension = 'txt'\n",
    "all_filenames = [i for i in glob.glob('*.{}'.format(extension))]\n",
    "\n",
    "# concatenate all dataset\n",
    "data_set = pd.concat([pd.read_csv(files,sep='\\t') for files in all_filenames ])"
   ]
  },
  {
   "cell_type": "markdown",
   "id": "defb653a-5562-4c01-9c39-2fa3c4142153",
   "metadata": {},
   "source": [
    "# brief look"
   ]
  },
  {
   "cell_type": "code",
   "execution_count": 5,
   "id": "c8eaab9a-fd04-454b-a10c-ac23ff7ab1a6",
   "metadata": {},
   "outputs": [
    {
     "data": {
      "text/html": [
       "<div>\n",
       "<style scoped>\n",
       "    .dataframe tbody tr th:only-of-type {\n",
       "        vertical-align: middle;\n",
       "    }\n",
       "\n",
       "    .dataframe tbody tr th {\n",
       "        vertical-align: top;\n",
       "    }\n",
       "\n",
       "    .dataframe thead th {\n",
       "        text-align: right;\n",
       "    }\n",
       "</style>\n",
       "<table border=\"1\" class=\"dataframe\">\n",
       "  <thead>\n",
       "    <tr style=\"text-align: right;\">\n",
       "      <th></th>\n",
       "      <th>index</th>\n",
       "      <th>user_id</th>\n",
       "      <th>original_image</th>\n",
       "      <th>face_id</th>\n",
       "      <th>age</th>\n",
       "      <th>gender</th>\n",
       "      <th>x</th>\n",
       "      <th>y</th>\n",
       "      <th>dx</th>\n",
       "      <th>dy</th>\n",
       "      <th>tilt_ang</th>\n",
       "      <th>fiducial_yaw_angle</th>\n",
       "      <th>fiducial_score</th>\n",
       "    </tr>\n",
       "  </thead>\n",
       "  <tbody>\n",
       "    <tr>\n",
       "      <th>0</th>\n",
       "      <td>0</td>\n",
       "      <td>114841417@N06</td>\n",
       "      <td>12068804204_085d553238_o.jpg</td>\n",
       "      <td>481</td>\n",
       "      <td>(60, 100)</td>\n",
       "      <td>f</td>\n",
       "      <td>1141</td>\n",
       "      <td>780</td>\n",
       "      <td>975</td>\n",
       "      <td>976</td>\n",
       "      <td>0</td>\n",
       "      <td>0</td>\n",
       "      <td>118</td>\n",
       "    </tr>\n",
       "    <tr>\n",
       "      <th>1</th>\n",
       "      <td>1</td>\n",
       "      <td>114841417@N06</td>\n",
       "      <td>12068804204_085d553238_o.jpg</td>\n",
       "      <td>482</td>\n",
       "      <td>(48, 53)</td>\n",
       "      <td>m</td>\n",
       "      <td>1821</td>\n",
       "      <td>283</td>\n",
       "      <td>969</td>\n",
       "      <td>969</td>\n",
       "      <td>-25</td>\n",
       "      <td>15</td>\n",
       "      <td>35</td>\n",
       "    </tr>\n",
       "    <tr>\n",
       "      <th>2</th>\n",
       "      <td>2</td>\n",
       "      <td>114841417@N06</td>\n",
       "      <td>12078357226_5fdd9367de_o.jpg</td>\n",
       "      <td>483</td>\n",
       "      <td>(4, 6)</td>\n",
       "      <td>f</td>\n",
       "      <td>1788</td>\n",
       "      <td>341</td>\n",
       "      <td>306</td>\n",
       "      <td>306</td>\n",
       "      <td>-10</td>\n",
       "      <td>0</td>\n",
       "      <td>168</td>\n",
       "    </tr>\n",
       "    <tr>\n",
       "      <th>3</th>\n",
       "      <td>3</td>\n",
       "      <td>114841417@N06</td>\n",
       "      <td>12019067874_0e988248af_o.jpg</td>\n",
       "      <td>483</td>\n",
       "      <td>(4, 6)</td>\n",
       "      <td>f</td>\n",
       "      <td>3</td>\n",
       "      <td>183</td>\n",
       "      <td>932</td>\n",
       "      <td>777</td>\n",
       "      <td>-115</td>\n",
       "      <td>0</td>\n",
       "      <td>27</td>\n",
       "    </tr>\n",
       "    <tr>\n",
       "      <th>4</th>\n",
       "      <td>4</td>\n",
       "      <td>114841417@N06</td>\n",
       "      <td>12077009614_2490487d2a_o.jpg</td>\n",
       "      <td>484</td>\n",
       "      <td>45</td>\n",
       "      <td>f</td>\n",
       "      <td>258</td>\n",
       "      <td>133</td>\n",
       "      <td>1734</td>\n",
       "      <td>1734</td>\n",
       "      <td>15</td>\n",
       "      <td>0</td>\n",
       "      <td>11</td>\n",
       "    </tr>\n",
       "    <tr>\n",
       "      <th>...</th>\n",
       "      <td>...</td>\n",
       "      <td>...</td>\n",
       "      <td>...</td>\n",
       "      <td>...</td>\n",
       "      <td>...</td>\n",
       "      <td>...</td>\n",
       "      <td>...</td>\n",
       "      <td>...</td>\n",
       "      <td>...</td>\n",
       "      <td>...</td>\n",
       "      <td>...</td>\n",
       "      <td>...</td>\n",
       "      <td>...</td>\n",
       "    </tr>\n",
       "    <tr>\n",
       "      <th>19365</th>\n",
       "      <td>3441</td>\n",
       "      <td>113728563@N05</td>\n",
       "      <td>11827967936_b29e8e87eb_o.jpg</td>\n",
       "      <td>1739</td>\n",
       "      <td>None</td>\n",
       "      <td>NaN</td>\n",
       "      <td>0</td>\n",
       "      <td>0</td>\n",
       "      <td>768</td>\n",
       "      <td>921</td>\n",
       "      <td>0</td>\n",
       "      <td>0</td>\n",
       "      <td>78</td>\n",
       "    </tr>\n",
       "    <tr>\n",
       "      <th>19366</th>\n",
       "      <td>3442</td>\n",
       "      <td>113728563@N05</td>\n",
       "      <td>11826123976_c7d6738478_o.jpg</td>\n",
       "      <td>1742</td>\n",
       "      <td>None</td>\n",
       "      <td>NaN</td>\n",
       "      <td>450</td>\n",
       "      <td>906</td>\n",
       "      <td>932</td>\n",
       "      <td>932</td>\n",
       "      <td>0</td>\n",
       "      <td>0</td>\n",
       "      <td>127</td>\n",
       "    </tr>\n",
       "    <tr>\n",
       "      <th>19367</th>\n",
       "      <td>3443</td>\n",
       "      <td>113728563@N05</td>\n",
       "      <td>11827955196_c97e4f877d_o.jpg</td>\n",
       "      <td>1743</td>\n",
       "      <td>None</td>\n",
       "      <td>NaN</td>\n",
       "      <td>72</td>\n",
       "      <td>142</td>\n",
       "      <td>560</td>\n",
       "      <td>560</td>\n",
       "      <td>20</td>\n",
       "      <td>0</td>\n",
       "      <td>13</td>\n",
       "    </tr>\n",
       "    <tr>\n",
       "      <th>19368</th>\n",
       "      <td>3444</td>\n",
       "      <td>113728563@N05</td>\n",
       "      <td>11826168836_69124b9bdf_o.jpg</td>\n",
       "      <td>1741</td>\n",
       "      <td>None</td>\n",
       "      <td>NaN</td>\n",
       "      <td>0</td>\n",
       "      <td>1284</td>\n",
       "      <td>921</td>\n",
       "      <td>1160</td>\n",
       "      <td>-105</td>\n",
       "      <td>-30</td>\n",
       "      <td>74</td>\n",
       "    </tr>\n",
       "    <tr>\n",
       "      <th>19369</th>\n",
       "      <td>3445</td>\n",
       "      <td>113728563@N05</td>\n",
       "      <td>11826168836_69124b9bdf_o.jpg</td>\n",
       "      <td>1736</td>\n",
       "      <td>None</td>\n",
       "      <td>NaN</td>\n",
       "      <td>89</td>\n",
       "      <td>608</td>\n",
       "      <td>1096</td>\n",
       "      <td>1097</td>\n",
       "      <td>-95</td>\n",
       "      <td>-30</td>\n",
       "      <td>66</td>\n",
       "    </tr>\n",
       "  </tbody>\n",
       "</table>\n",
       "<p>19370 rows × 13 columns</p>\n",
       "</div>"
      ],
      "text/plain": [
       "       index        user_id                original_image  face_id        age  \\\n",
       "0          0  114841417@N06  12068804204_085d553238_o.jpg      481  (60, 100)   \n",
       "1          1  114841417@N06  12068804204_085d553238_o.jpg      482   (48, 53)   \n",
       "2          2  114841417@N06  12078357226_5fdd9367de_o.jpg      483     (4, 6)   \n",
       "3          3  114841417@N06  12019067874_0e988248af_o.jpg      483     (4, 6)   \n",
       "4          4  114841417@N06  12077009614_2490487d2a_o.jpg      484         45   \n",
       "...      ...            ...                           ...      ...        ...   \n",
       "19365   3441  113728563@N05  11827967936_b29e8e87eb_o.jpg     1739       None   \n",
       "19366   3442  113728563@N05  11826123976_c7d6738478_o.jpg     1742       None   \n",
       "19367   3443  113728563@N05  11827955196_c97e4f877d_o.jpg     1743       None   \n",
       "19368   3444  113728563@N05  11826168836_69124b9bdf_o.jpg     1741       None   \n",
       "19369   3445  113728563@N05  11826168836_69124b9bdf_o.jpg     1736       None   \n",
       "\n",
       "      gender     x     y    dx    dy  tilt_ang  fiducial_yaw_angle  \\\n",
       "0          f  1141   780   975   976         0                   0   \n",
       "1          m  1821   283   969   969       -25                  15   \n",
       "2          f  1788   341   306   306       -10                   0   \n",
       "3          f     3   183   932   777      -115                   0   \n",
       "4          f   258   133  1734  1734        15                   0   \n",
       "...      ...   ...   ...   ...   ...       ...                 ...   \n",
       "19365    NaN     0     0   768   921         0                   0   \n",
       "19366    NaN   450   906   932   932         0                   0   \n",
       "19367    NaN    72   142   560   560        20                   0   \n",
       "19368    NaN     0  1284   921  1160      -105                 -30   \n",
       "19369    NaN    89   608  1096  1097       -95                 -30   \n",
       "\n",
       "       fiducial_score  \n",
       "0                 118  \n",
       "1                  35  \n",
       "2                 168  \n",
       "3                  27  \n",
       "4                  11  \n",
       "...               ...  \n",
       "19365              78  \n",
       "19366             127  \n",
       "19367              13  \n",
       "19368              74  \n",
       "19369              66  \n",
       "\n",
       "[19370 rows x 13 columns]"
      ]
     },
     "execution_count": 5,
     "metadata": {},
     "output_type": "execute_result"
    }
   ],
   "source": [
    "# brief look\n",
    "data_set.reset_index()  # (19370, 12)\n",
    "# dtype\n",
    "# user_id               object\n",
    "# original_image        object\n",
    "# face_id                int64\n",
    "# age                   object\n",
    "# gender                object\n",
    "# x                      int64\n",
    "# y                      int64\n",
    "# dx                     int64\n",
    "# dy                     int64\n",
    "# tilt_ang               int64\n",
    "# fiducial_yaw_angle     int64\n",
    "# fiducial_score         int64\n",
    "# dtype: object"
   ]
  },
  {
   "cell_type": "markdown",
   "id": "cca3016f-f259-4acf-ac8a-1b21c4129d30",
   "metadata": {},
   "source": [
    "# look at missing/null values proportion"
   ]
  },
  {
   "cell_type": "code",
   "execution_count": 6,
   "id": "a54deb0b-48c6-4062-bca7-bbf73dafe2db",
   "metadata": {},
   "outputs": [],
   "source": [
    "# missing/null value summarize:\n",
    "# there are differences between 'None' and 'Nan'\n",
    "# 'Nan' is null, 'None' is string 'None'\n",
    "def null_zero_ratio(dataframe):\n",
    "    dict_null = {each_column:{} for each_column in dataframe.columns}\n",
    "    for each_column in dataframe:\n",
    "        null_num = sum(dataframe[each_column].isnull()==True)\n",
    "        None_num = sum(dataframe[each_column]=='None')\n",
    "        null_rate = (null_num + None_num) / dataframe.shape[0]\n",
    "        dict_null[each_column]['null_number'] = null_num + None_num\n",
    "        dict_null[each_column]['null_rate'] = null_rate\n",
    "    return dict_null"
   ]
  },
  {
   "cell_type": "code",
   "execution_count": 7,
   "id": "79c31d78-7f7c-4d6c-baa5-d5f85c189e16",
   "metadata": {},
   "outputs": [
    {
     "data": {
      "text/plain": [
       "{'user_id': {'null_number': 0, 'null_rate': 0.0},\n",
       " 'face_id': {'null_number': 0, 'null_rate': 0.0},\n",
       " 'age': {'null_number': 748, 'null_rate': 0.03861641713990707},\n",
       " 'gender': {'null_number': 779, 'null_rate': 0.040216830149716054}}"
      ]
     },
     "execution_count": 7,
     "metadata": {},
     "output_type": "execute_result"
    }
   ],
   "source": [
    "dict_ = null_zero_ratio(pd.DataFrame(data_set, columns = ['user_id','face_id','age','gender']))\n",
    "dict_"
   ]
  },
  {
   "cell_type": "markdown",
   "id": "75202c35-c310-496f-9bf2-45d626eccdeb",
   "metadata": {},
   "source": [
    "# null rate is very low --> personally I think we can drop# null rate is very low --> personally I think we can drop"
   ]
  },
  {
   "cell_type": "code",
   "execution_count": 10,
   "id": "13bbae41-691a-4e72-91da-5ac82b4a0e7d",
   "metadata": {},
   "outputs": [],
   "source": [
    "# null rate is very low --> personally I think we can drop"
   ]
  },
  {
   "cell_type": "markdown",
   "id": "2aacc92e-65dd-4262-af3c-df511d068488",
   "metadata": {},
   "source": [
    "# data detail check"
   ]
  },
  {
   "cell_type": "markdown",
   "id": "2cc19c51-7a5b-450c-b12f-b14a9ceb7354",
   "metadata": {},
   "source": [
    "## 168 unique user id"
   ]
  },
  {
   "cell_type": "code",
   "execution_count": 8,
   "id": "39167ca4-91c2-440f-b037-0f628a87daf9",
   "metadata": {},
   "outputs": [
    {
     "data": {
      "text/plain": [
       "user_id      \n",
       "114841417@N06    745\n",
       "30601258@N03     741\n",
       "29671106@N00     598\n",
       "20254529@N04     557\n",
       "8410632@N03      542\n",
       "                ... \n",
       "113771355@N07      2\n",
       "68666269@N03       2\n",
       "50458575@N08       2\n",
       "104937236@N08      1\n",
       "10693681@N00       1\n",
       "Length: 168, dtype: int64"
      ]
     },
     "execution_count": 8,
     "metadata": {},
     "output_type": "execute_result"
    }
   ],
   "source": [
    "# basic data check\n",
    "len(data_set['user_id'].unique()) # 168 unique user_id\n",
    "data_set[['user_id']].value_counts(ascending=False) # which user appears the most frequent, 'value_counts' excludes nan by default"
   ]
  },
  {
   "cell_type": "markdown",
   "id": "7b8c0bca-c2cc-4c86-b7e1-f83e4cabc87b",
   "metadata": {},
   "source": [
    "## 2284 unique face_id"
   ]
  },
  {
   "cell_type": "code",
   "execution_count": 9,
   "id": "be0912bc-0f4a-43fd-8d02-be83dea05673",
   "metadata": {},
   "outputs": [
    {
     "data": {
      "text/plain": [
       "face_id\n",
       "2          417\n",
       "1317       399\n",
       "186        314\n",
       "84         238\n",
       "911        225\n",
       "          ... \n",
       "778          1\n",
       "776          1\n",
       "775          1\n",
       "774          1\n",
       "2284         1\n",
       "Length: 2284, dtype: int64"
      ]
     },
     "execution_count": 9,
     "metadata": {},
     "output_type": "execute_result"
    }
   ],
   "source": [
    "len(data_set['face_id'].unique()) # 2284 unique face_id\n",
    "data_set[['face_id']].value_counts(ascending=False) # which face_id appears the most, out of curiosity\n",
    "# 2 appears the most"
   ]
  },
  {
   "cell_type": "markdown",
   "id": "e077d710-799c-4928-b065-ee7a2c34d2c3",
   "metadata": {},
   "source": [
    "# 30 unique age range, ranges are wierd and need to be processed"
   ]
  },
  {
   "cell_type": "code",
   "execution_count": 10,
   "id": "cf1d5ad2-0fa4-4ec4-99c3-2c11fb68eb41",
   "metadata": {
    "tags": []
   },
   "outputs": [
    {
     "data": {
      "text/plain": [
       "age      \n",
       "(25, 32)     5004\n",
       "(0, 2)       2488\n",
       "(38, 43)     2293\n",
       "(4, 6)       2140\n",
       "(8, 12)      2124\n",
       "(15, 20)     1642\n",
       "(60, 100)     872\n",
       "(48, 53)      830\n",
       "None          748\n",
       "35            293\n",
       "13            168\n",
       "22            149\n",
       "34            105\n",
       "23             96\n",
       "45             88\n",
       "(27, 32)       77\n",
       "55             76\n",
       "36             56\n",
       "(38, 42)       46\n",
       "57             24\n",
       "3              18\n",
       "29             11\n",
       "(38, 48)        6\n",
       "58              5\n",
       "2               3\n",
       "32              3\n",
       "56              2\n",
       "(8, 23)         1\n",
       "42              1\n",
       "46              1\n",
       "dtype: int64"
      ]
     },
     "execution_count": 10,
     "metadata": {},
     "output_type": "execute_result"
    }
   ],
   "source": [
    "len(data_set['age'].unique()) # 30 unique age range\n",
    "data_set[['age']].value_counts(ascending=False) # mostly are between 25~32 --> a little bit dirty data\n",
    "# wierd thing: (0,2) has 2488 values?"
   ]
  },
  {
   "cell_type": "markdown",
   "id": "0742f2af-e4a8-4c75-ba06-2147a1752839",
   "metadata": {},
   "source": [
    "# balanced numbers for Male & Female"
   ]
  },
  {
   "cell_type": "code",
   "execution_count": 11,
   "id": "57cc046e-192a-4c05-8d3b-7d66783d8df5",
   "metadata": {},
   "outputs": [
    {
     "data": {
      "text/plain": [
       "gender\n",
       "f         9372\n",
       "m         8120\n",
       "u         1099\n",
       "dtype: int64"
      ]
     },
     "execution_count": 11,
     "metadata": {},
     "output_type": "execute_result"
    }
   ],
   "source": [
    "data_set['gender'].unique() # 4 different age: ['f', 'm', nan, 'u']\n",
    "data_set[['gender']].value_counts(ascending=False)"
   ]
  },
  {
   "cell_type": "markdown",
   "id": "7853883d-52da-4098-ab4b-7d05abe5ba5b",
   "metadata": {},
   "source": [
    "# drop Nan/Null"
   ]
  },
  {
   "cell_type": "code",
   "execution_count": 12,
   "id": "99ba895e-731f-4248-a15b-7b16ca777b4f",
   "metadata": {},
   "outputs": [],
   "source": [
    "# drop None\n",
    "data_set_0 = data_set[data_set['age'] != 'None']\n",
    "# sum(data_set_0['age'] == 'None'): 0\n",
    "\n",
    "# drop Nan \n",
    "data_set_0 = data_set_0.dropna()"
   ]
  },
  {
   "cell_type": "code",
   "execution_count": 13,
   "id": "fc274ed5-801b-47a7-955b-2464d5cbbfab",
   "metadata": {},
   "outputs": [
    {
     "data": {
      "text/plain": [
       "{'user_id': {'null_number': 0, 'null_rate': 0.0},\n",
       " 'face_id': {'null_number': 0, 'null_rate': 0.0},\n",
       " 'age': {'null_number': 0, 'null_rate': 0.0},\n",
       " 'gender': {'null_number': 0, 'null_rate': 0.0}}"
      ]
     },
     "execution_count": 13,
     "metadata": {},
     "output_type": "execute_result"
    }
   ],
   "source": [
    "dict_0 = null_zero_ratio(pd.DataFrame(data_set_0, columns = ['user_id','face_id','age','gender']))\n",
    "dict_0\n",
    "# all Nan/Null dropped: checked"
   ]
  },
  {
   "cell_type": "markdown",
   "id": "ff28c892-c963-4e44-bf9c-a04669dc9acc",
   "metadata": {},
   "source": [
    "# tag labels for different age groups \n"
   ]
  },
  {
   "cell_type": "code",
   "execution_count": 32,
   "id": "43696b8a-2695-4066-b6db-04cb013233e8",
   "metadata": {
    "tags": []
   },
   "outputs": [],
   "source": [
    "# use map function \n",
    "# 04/24 version 1: map age to '0: child', '1: teens & adult', '2: elder'\n",
    "# age_to_label_map = {\n",
    "#     '(0, 2)'  :0,\n",
    "#     '2':0,\n",
    "#     '3':0,\n",
    "#     '(4, 6)'  :0,\n",
    "#     '(8, 12)' :0,\n",
    "#     '13':0,\n",
    "#     '(15, 20)':1,\n",
    "#     '22':1,\n",
    "#     '23':1,\n",
    "#     '(8, 23)':1,\n",
    "#     '(25, 32)':1,\n",
    "#     '(27, 32)':1,\n",
    "#     '29':1,\n",
    "#     '32':1,\n",
    "#     '34':1,\n",
    "#     '35':1,\n",
    "#     '36':1,\n",
    "#     '(38, 43)':1,\n",
    "#     '(38, 42)':1,\n",
    "#     '42':1,\n",
    "#     '45':1,\n",
    "#     '46':1,\n",
    "#     '(38, 48)':1,\n",
    "#     '(48, 53)':1,\n",
    "#     '55':2,\n",
    "#     '56':2,\n",
    "#     '57':2,\n",
    "#     '58':2,\n",
    "#     '(60, 100)':2\n",
    "# }"
   ]
  },
  {
   "cell_type": "code",
   "execution_count": 14,
   "id": "f049df4f-cb8d-437f-9557-081221c19314",
   "metadata": {
    "tags": []
   },
   "outputs": [],
   "source": [
    "# 05/01 version 2: still keep 8 labels, redifine age groups, filling age gaps between each age group\n",
    "# [0-4): 0\n",
    "# [4-8): 1\n",
    "# [8-15): 2\n",
    "# [15-25): 3\n",
    "# [25-38): 4\n",
    "# [38-48): 5\n",
    "# [48-60): 6\n",
    "# [60-100): 7\n",
    "\n",
    "age_to_label_map = {\n",
    "    '(0, 2)'  :0,\n",
    "    '2':0,\n",
    "    '3':0,\n",
    "    '(4, 6)'  :1,\n",
    "    '(8, 12)' :2,\n",
    "    '(8, 23)':2, # only 1 data point\n",
    "    '13':2,\n",
    "    '(15, 20)':3,\n",
    "    '22':3,\n",
    "    '23':3,\n",
    "    '(25, 32)':4,\n",
    "    '(27, 32)':4,\n",
    "    '29':4,\n",
    "    '32':4,\n",
    "    '34':4,\n",
    "    '35':4,\n",
    "    '36':4,\n",
    "    '(38, 43)':5,\n",
    "    '(38, 42)':5,\n",
    "    '42':5,\n",
    "    '45':5,\n",
    "    '46':5,\n",
    "    '(38, 48)':5,\n",
    "    '(48, 53)':6,\n",
    "    '55':6,\n",
    "    '56':6,\n",
    "    '57':6,\n",
    "    '58':6,\n",
    "    '(60, 100)':7\n",
    "}"
   ]
  },
  {
   "cell_type": "code",
   "execution_count": 15,
   "id": "02d2807a-5b66-4a89-9e7d-387aa45d228d",
   "metadata": {
    "tags": []
   },
   "outputs": [],
   "source": [
    "# perform map\n",
    "data_set_0['age_'] = data_set_0['age'].map(age_to_label_map)"
   ]
  },
  {
   "cell_type": "code",
   "execution_count": 16,
   "id": "4730161e-b517-4906-8e48-3669eced0162",
   "metadata": {},
   "outputs": [
    {
     "name": "stdout",
     "output_type": "stream",
     "text": [
      "the lable of age now becomes:[7 6 1 5 2 3 4 0]\n"
     ]
    },
    {
     "data": {
      "text/plain": [
       "age_\n",
       "4       5495\n",
       "0       2509\n",
       "5       2435\n",
       "2       2288\n",
       "1       2140\n",
       "3       1887\n",
       "6        930\n",
       "7        867\n",
       "dtype: int64"
      ]
     },
     "execution_count": 16,
     "metadata": {},
     "output_type": "execute_result"
    }
   ],
   "source": [
    "# check if they are all mapped\n",
    "print('the lable of age now becomes:' + str(data_set_0['age_'].unique()))\n",
    "data_set_0[['age_']].value_counts(ascending=False, dropna=False)"
   ]
  },
  {
   "cell_type": "markdown",
   "id": "b74b92b1-2248-4a23-b34b-1838e1fa32c0",
   "metadata": {},
   "source": [
    "## Age plot"
   ]
  },
  {
   "cell_type": "code",
   "execution_count": 17,
   "id": "5224f20f-a282-4e22-a792-8ff791d70feb",
   "metadata": {
    "tags": []
   },
   "outputs": [
    {
     "data": {
      "image/png": "[encoded data removed]",
      "text/plain": [
       "<Figure size 576x576 with 1 Axes>"
      ]
     },
     "metadata": {},
     "output_type": "display_data"
    }
   ],
   "source": [
    "plt.figure(1, figsize=(8,8))\n",
    "data_set_0.age_.value_counts().plot.pie(autopct=\"%1.1f%%\")\n",
    "plt.show()"
   ]
  },
  {
   "cell_type": "markdown",
   "id": "1c5628ae-a2f5-4593-b65a-51c92ffa0d1d",
   "metadata": {},
   "source": [
    "# tag labels for gender\n",
    "* 0: female\n",
    "* 1: male \n",
    "* 2: unisex --> (undefined)"
   ]
  },
  {
   "cell_type": "code",
   "execution_count": 18,
   "id": "306debd3-818d-494b-a768-11dd05062058",
   "metadata": {},
   "outputs": [],
   "source": [
    "# map age to '0: child', '1: teens & adult', '2: elder'\n",
    "gender_to_label_map = {\n",
    "    'f':0,\n",
    "    'm':1,\n",
    "    'u':2\n",
    "}\n",
    "# perform map\n",
    "data_set_0['gender_'] = data_set_0['gender'].map(gender_to_label_map)"
   ]
  },
  {
   "cell_type": "code",
   "execution_count": 19,
   "id": "1c0234d7-c899-48b0-8b5c-e2bdd7b87807",
   "metadata": {},
   "outputs": [
    {
     "data": {
      "image/png": "[encoded data removed]",
      "text/plain": [
       "<Figure size 576x576 with 1 Axes>"
      ]
     },
     "metadata": {},
     "output_type": "display_data"
    }
   ],
   "source": [
    "plt.figure(1, figsize=(8,8))\n",
    "data_set_0.gender_.value_counts().plot.pie(autopct=\"%1.1f%%\")\n",
    "plt.show()"
   ]
  },
  {
   "cell_type": "markdown",
   "id": "f93b8b0f-2c0f-458d-b531-9daecaaafa9b",
   "metadata": {},
   "source": [
    "## look at what does 'u' in gender tells us \n",
    "* mostly are 0-2 infants --> drop"
   ]
  },
  {
   "cell_type": "code",
   "execution_count": 20,
   "id": "397df6f0-326d-43a7-ae07-99208e3c1bab",
   "metadata": {},
   "outputs": [
    {
     "data": {
      "text/html": [
       "<div>\n",
       "<style scoped>\n",
       "    .dataframe tbody tr th:only-of-type {\n",
       "        vertical-align: middle;\n",
       "    }\n",
       "\n",
       "    .dataframe tbody tr th {\n",
       "        vertical-align: top;\n",
       "    }\n",
       "\n",
       "    .dataframe thead th {\n",
       "        text-align: right;\n",
       "    }\n",
       "</style>\n",
       "<table border=\"1\" class=\"dataframe\">\n",
       "  <thead>\n",
       "    <tr style=\"text-align: right;\">\n",
       "      <th></th>\n",
       "      <th>user_id</th>\n",
       "      <th>original_image</th>\n",
       "      <th>face_id</th>\n",
       "      <th>age</th>\n",
       "      <th>gender</th>\n",
       "      <th>x</th>\n",
       "      <th>y</th>\n",
       "      <th>dx</th>\n",
       "      <th>dy</th>\n",
       "      <th>tilt_ang</th>\n",
       "      <th>fiducial_yaw_angle</th>\n",
       "      <th>fiducial_score</th>\n",
       "      <th>age_</th>\n",
       "      <th>gender_</th>\n",
       "    </tr>\n",
       "  </thead>\n",
       "  <tbody>\n",
       "    <tr>\n",
       "      <th>2700</th>\n",
       "      <td>8034587@N06</td>\n",
       "      <td>11299390836_0e5e2ba387_o.jpg</td>\n",
       "      <td>700</td>\n",
       "      <td>(0, 2)</td>\n",
       "      <td>u</td>\n",
       "      <td>239</td>\n",
       "      <td>384</td>\n",
       "      <td>2040</td>\n",
       "      <td>2040</td>\n",
       "      <td>-80</td>\n",
       "      <td>15</td>\n",
       "      <td>67</td>\n",
       "      <td>0</td>\n",
       "      <td>2</td>\n",
       "    </tr>\n",
       "    <tr>\n",
       "      <th>2701</th>\n",
       "      <td>8034587@N06</td>\n",
       "      <td>11299000103_2e0c2494a9_o.jpg</td>\n",
       "      <td>700</td>\n",
       "      <td>(0, 2)</td>\n",
       "      <td>u</td>\n",
       "      <td>293</td>\n",
       "      <td>320</td>\n",
       "      <td>1810</td>\n",
       "      <td>1810</td>\n",
       "      <td>-100</td>\n",
       "      <td>0</td>\n",
       "      <td>47</td>\n",
       "      <td>0</td>\n",
       "      <td>2</td>\n",
       "    </tr>\n",
       "    <tr>\n",
       "      <th>2705</th>\n",
       "      <td>8034587@N06</td>\n",
       "      <td>11299440883_599e709d5c_o.jpg</td>\n",
       "      <td>700</td>\n",
       "      <td>(0, 2)</td>\n",
       "      <td>u</td>\n",
       "      <td>438</td>\n",
       "      <td>570</td>\n",
       "      <td>1288</td>\n",
       "      <td>1288</td>\n",
       "      <td>-105</td>\n",
       "      <td>30</td>\n",
       "      <td>56</td>\n",
       "      <td>0</td>\n",
       "      <td>2</td>\n",
       "    </tr>\n",
       "    <tr>\n",
       "      <th>2707</th>\n",
       "      <td>8034587@N06</td>\n",
       "      <td>11299134505_15793585d9_o.jpg</td>\n",
       "      <td>700</td>\n",
       "      <td>(0, 2)</td>\n",
       "      <td>u</td>\n",
       "      <td>31</td>\n",
       "      <td>688</td>\n",
       "      <td>848</td>\n",
       "      <td>848</td>\n",
       "      <td>-110</td>\n",
       "      <td>0</td>\n",
       "      <td>117</td>\n",
       "      <td>0</td>\n",
       "      <td>2</td>\n",
       "    </tr>\n",
       "    <tr>\n",
       "      <th>2708</th>\n",
       "      <td>8034587@N06</td>\n",
       "      <td>11299523154_1fc4b1f467_o.jpg</td>\n",
       "      <td>700</td>\n",
       "      <td>(0, 2)</td>\n",
       "      <td>u</td>\n",
       "      <td>953</td>\n",
       "      <td>847</td>\n",
       "      <td>981</td>\n",
       "      <td>982</td>\n",
       "      <td>-110</td>\n",
       "      <td>30</td>\n",
       "      <td>47</td>\n",
       "      <td>0</td>\n",
       "      <td>2</td>\n",
       "    </tr>\n",
       "    <tr>\n",
       "      <th>...</th>\n",
       "      <td>...</td>\n",
       "      <td>...</td>\n",
       "      <td>...</td>\n",
       "      <td>...</td>\n",
       "      <td>...</td>\n",
       "      <td>...</td>\n",
       "      <td>...</td>\n",
       "      <td>...</td>\n",
       "      <td>...</td>\n",
       "      <td>...</td>\n",
       "      <td>...</td>\n",
       "      <td>...</td>\n",
       "      <td>...</td>\n",
       "      <td>...</td>\n",
       "    </tr>\n",
       "    <tr>\n",
       "      <th>3203</th>\n",
       "      <td>22815721@N06</td>\n",
       "      <td>11465751613_c3ee9d60a6_o.jpg</td>\n",
       "      <td>1639</td>\n",
       "      <td>(0, 2)</td>\n",
       "      <td>u</td>\n",
       "      <td>0</td>\n",
       "      <td>451</td>\n",
       "      <td>1875</td>\n",
       "      <td>2173</td>\n",
       "      <td>-5</td>\n",
       "      <td>30</td>\n",
       "      <td>63</td>\n",
       "      <td>0</td>\n",
       "      <td>2</td>\n",
       "    </tr>\n",
       "    <tr>\n",
       "      <th>3209</th>\n",
       "      <td>22815721@N06</td>\n",
       "      <td>11732633334_89c45acc89_o.jpg</td>\n",
       "      <td>1639</td>\n",
       "      <td>(0, 2)</td>\n",
       "      <td>u</td>\n",
       "      <td>122</td>\n",
       "      <td>855</td>\n",
       "      <td>1938</td>\n",
       "      <td>1938</td>\n",
       "      <td>20</td>\n",
       "      <td>-45</td>\n",
       "      <td>9</td>\n",
       "      <td>0</td>\n",
       "      <td>2</td>\n",
       "    </tr>\n",
       "    <tr>\n",
       "      <th>3213</th>\n",
       "      <td>22815721@N06</td>\n",
       "      <td>11855276243_a7f5602687_o.jpg</td>\n",
       "      <td>1639</td>\n",
       "      <td>(0, 2)</td>\n",
       "      <td>u</td>\n",
       "      <td>653</td>\n",
       "      <td>443</td>\n",
       "      <td>1562</td>\n",
       "      <td>1561</td>\n",
       "      <td>-15</td>\n",
       "      <td>30</td>\n",
       "      <td>15</td>\n",
       "      <td>0</td>\n",
       "      <td>2</td>\n",
       "    </tr>\n",
       "    <tr>\n",
       "      <th>3216</th>\n",
       "      <td>22815721@N06</td>\n",
       "      <td>11732850916_f996f955fd_o.jpg</td>\n",
       "      <td>1639</td>\n",
       "      <td>(0, 2)</td>\n",
       "      <td>u</td>\n",
       "      <td>0</td>\n",
       "      <td>156</td>\n",
       "      <td>2448</td>\n",
       "      <td>2875</td>\n",
       "      <td>0</td>\n",
       "      <td>0</td>\n",
       "      <td>117</td>\n",
       "      <td>0</td>\n",
       "      <td>2</td>\n",
       "    </tr>\n",
       "    <tr>\n",
       "      <th>3411</th>\n",
       "      <td>7610270@N03</td>\n",
       "      <td>10162160056_3d91749b02_o.jpg</td>\n",
       "      <td>1732</td>\n",
       "      <td>(0, 2)</td>\n",
       "      <td>u</td>\n",
       "      <td>326</td>\n",
       "      <td>0</td>\n",
       "      <td>2938</td>\n",
       "      <td>2448</td>\n",
       "      <td>-90</td>\n",
       "      <td>0</td>\n",
       "      <td>9</td>\n",
       "      <td>0</td>\n",
       "      <td>2</td>\n",
       "    </tr>\n",
       "  </tbody>\n",
       "</table>\n",
       "<p>1099 rows × 14 columns</p>\n",
       "</div>"
      ],
      "text/plain": [
       "           user_id                original_image  face_id     age gender    x  \\\n",
       "2700   8034587@N06  11299390836_0e5e2ba387_o.jpg      700  (0, 2)      u  239   \n",
       "2701   8034587@N06  11299000103_2e0c2494a9_o.jpg      700  (0, 2)      u  293   \n",
       "2705   8034587@N06  11299440883_599e709d5c_o.jpg      700  (0, 2)      u  438   \n",
       "2707   8034587@N06  11299134505_15793585d9_o.jpg      700  (0, 2)      u   31   \n",
       "2708   8034587@N06  11299523154_1fc4b1f467_o.jpg      700  (0, 2)      u  953   \n",
       "...            ...                           ...      ...     ...    ...  ...   \n",
       "3203  22815721@N06  11465751613_c3ee9d60a6_o.jpg     1639  (0, 2)      u    0   \n",
       "3209  22815721@N06  11732633334_89c45acc89_o.jpg     1639  (0, 2)      u  122   \n",
       "3213  22815721@N06  11855276243_a7f5602687_o.jpg     1639  (0, 2)      u  653   \n",
       "3216  22815721@N06  11732850916_f996f955fd_o.jpg     1639  (0, 2)      u    0   \n",
       "3411   7610270@N03  10162160056_3d91749b02_o.jpg     1732  (0, 2)      u  326   \n",
       "\n",
       "        y    dx    dy  tilt_ang  fiducial_yaw_angle  fiducial_score  age_  \\\n",
       "2700  384  2040  2040       -80                  15              67     0   \n",
       "2701  320  1810  1810      -100                   0              47     0   \n",
       "2705  570  1288  1288      -105                  30              56     0   \n",
       "2707  688   848   848      -110                   0             117     0   \n",
       "2708  847   981   982      -110                  30              47     0   \n",
       "...   ...   ...   ...       ...                 ...             ...   ...   \n",
       "3203  451  1875  2173        -5                  30              63     0   \n",
       "3209  855  1938  1938        20                 -45               9     0   \n",
       "3213  443  1562  1561       -15                  30              15     0   \n",
       "3216  156  2448  2875         0                   0             117     0   \n",
       "3411    0  2938  2448       -90                   0               9     0   \n",
       "\n",
       "      gender_  \n",
       "2700        2  \n",
       "2701        2  \n",
       "2705        2  \n",
       "2707        2  \n",
       "2708        2  \n",
       "...       ...  \n",
       "3203        2  \n",
       "3209        2  \n",
       "3213        2  \n",
       "3216        2  \n",
       "3411        2  \n",
       "\n",
       "[1099 rows x 14 columns]"
      ]
     },
     "execution_count": 20,
     "metadata": {},
     "output_type": "execute_result"
    }
   ],
   "source": [
    "data_u = data_set_0[data_set_0['gender_']==2]\n",
    "data_u"
   ]
  },
  {
   "cell_type": "code",
   "execution_count": 21,
   "id": "a18c898a-424c-4ef7-adcc-1e52b961cc41",
   "metadata": {},
   "outputs": [
    {
     "name": "stdout",
     "output_type": "stream",
     "text": [
      "the age group for u of gender is: ['(0, 2)' '(8, 12)' '(25, 32)' '(4, 6)' '(60, 100)' '(15, 20)']\n"
     ]
    },
    {
     "data": {
      "text/plain": [
       "(0, 2)       1091\n",
       "(8, 12)         2\n",
       "(25, 32)        2\n",
       "(15, 20)        2\n",
       "(4, 6)          1\n",
       "(60, 100)       1\n",
       "Name: age, dtype: int64"
      ]
     },
     "execution_count": 21,
     "metadata": {},
     "output_type": "execute_result"
    }
   ],
   "source": [
    "print('the age group for u of gender is: ' + str(data_u['age'].unique()))\n",
    "data_u.age.value_counts() "
   ]
  },
  {
   "cell_type": "markdown",
   "id": "dc3de480-970c-4c91-94e4-38eb829a4b71",
   "metadata": {},
   "source": [
    "##  drop undefined age group pictures, because most of them are 0-2 age infants"
   ]
  },
  {
   "cell_type": "code",
   "execution_count": 22,
   "id": "0e9ee344-5868-4a3d-a87e-f840bf771bb8",
   "metadata": {},
   "outputs": [],
   "source": [
    "data_set_0 = data_set_0[data_set_0['gender_'] != 2]"
   ]
  },
  {
   "cell_type": "code",
   "execution_count": 23,
   "id": "733db3db-b8b6-44cb-a515-d90df443a332",
   "metadata": {},
   "outputs": [
    {
     "data": {
      "image/png": "[encoded data removed]",
      "text/plain": [
       "<Figure size 576x576 with 1 Axes>"
      ]
     },
     "metadata": {},
     "output_type": "display_data"
    }
   ],
   "source": [
    "plt.figure(1, figsize=(8,8))\n",
    "data_set_0.gender_.value_counts().plot.pie(autopct=\"%1.1f%%\")\n",
    "plt.show()"
   ]
  },
  {
   "cell_type": "markdown",
   "id": "0ec9ddc4-292b-45a9-a499-926c192f79c7",
   "metadata": {},
   "source": [
    "# plot jpeg, and later convert it to pickle"
   ]
  },
  {
   "cell_type": "code",
   "execution_count": 25,
   "id": "41fb476b-578e-4fc2-b51c-a9b658eee979",
   "metadata": {},
   "outputs": [
    {
     "data": {
      "text/html": [
       "<div>\n",
       "<style scoped>\n",
       "    .dataframe tbody tr th:only-of-type {\n",
       "        vertical-align: middle;\n",
       "    }\n",
       "\n",
       "    .dataframe tbody tr th {\n",
       "        vertical-align: top;\n",
       "    }\n",
       "\n",
       "    .dataframe thead th {\n",
       "        text-align: right;\n",
       "    }\n",
       "</style>\n",
       "<table border=\"1\" class=\"dataframe\">\n",
       "  <thead>\n",
       "    <tr style=\"text-align: right;\">\n",
       "      <th></th>\n",
       "      <th>index</th>\n",
       "      <th>user_id</th>\n",
       "      <th>original_image</th>\n",
       "      <th>face_id</th>\n",
       "      <th>age</th>\n",
       "      <th>gender</th>\n",
       "      <th>x</th>\n",
       "      <th>y</th>\n",
       "      <th>dx</th>\n",
       "      <th>dy</th>\n",
       "      <th>tilt_ang</th>\n",
       "      <th>fiducial_yaw_angle</th>\n",
       "      <th>fiducial_score</th>\n",
       "      <th>age_</th>\n",
       "      <th>gender_</th>\n",
       "    </tr>\n",
       "  </thead>\n",
       "  <tbody>\n",
       "    <tr>\n",
       "      <th>0</th>\n",
       "      <td>0</td>\n",
       "      <td>114841417@N06</td>\n",
       "      <td>12068804204_085d553238_o.jpg</td>\n",
       "      <td>481</td>\n",
       "      <td>(60, 100)</td>\n",
       "      <td>f</td>\n",
       "      <td>1141</td>\n",
       "      <td>780</td>\n",
       "      <td>975</td>\n",
       "      <td>976</td>\n",
       "      <td>0</td>\n",
       "      <td>0</td>\n",
       "      <td>118</td>\n",
       "      <td>7</td>\n",
       "      <td>0</td>\n",
       "    </tr>\n",
       "    <tr>\n",
       "      <th>1</th>\n",
       "      <td>1</td>\n",
       "      <td>114841417@N06</td>\n",
       "      <td>12068804204_085d553238_o.jpg</td>\n",
       "      <td>482</td>\n",
       "      <td>(48, 53)</td>\n",
       "      <td>m</td>\n",
       "      <td>1821</td>\n",
       "      <td>283</td>\n",
       "      <td>969</td>\n",
       "      <td>969</td>\n",
       "      <td>-25</td>\n",
       "      <td>15</td>\n",
       "      <td>35</td>\n",
       "      <td>6</td>\n",
       "      <td>1</td>\n",
       "    </tr>\n",
       "    <tr>\n",
       "      <th>2</th>\n",
       "      <td>2</td>\n",
       "      <td>114841417@N06</td>\n",
       "      <td>12078357226_5fdd9367de_o.jpg</td>\n",
       "      <td>483</td>\n",
       "      <td>(4, 6)</td>\n",
       "      <td>f</td>\n",
       "      <td>1788</td>\n",
       "      <td>341</td>\n",
       "      <td>306</td>\n",
       "      <td>306</td>\n",
       "      <td>-10</td>\n",
       "      <td>0</td>\n",
       "      <td>168</td>\n",
       "      <td>1</td>\n",
       "      <td>0</td>\n",
       "    </tr>\n",
       "    <tr>\n",
       "      <th>3</th>\n",
       "      <td>3</td>\n",
       "      <td>114841417@N06</td>\n",
       "      <td>12019067874_0e988248af_o.jpg</td>\n",
       "      <td>483</td>\n",
       "      <td>(4, 6)</td>\n",
       "      <td>f</td>\n",
       "      <td>3</td>\n",
       "      <td>183</td>\n",
       "      <td>932</td>\n",
       "      <td>777</td>\n",
       "      <td>-115</td>\n",
       "      <td>0</td>\n",
       "      <td>27</td>\n",
       "      <td>1</td>\n",
       "      <td>0</td>\n",
       "    </tr>\n",
       "    <tr>\n",
       "      <th>4</th>\n",
       "      <td>4</td>\n",
       "      <td>114841417@N06</td>\n",
       "      <td>12077009614_2490487d2a_o.jpg</td>\n",
       "      <td>484</td>\n",
       "      <td>45</td>\n",
       "      <td>f</td>\n",
       "      <td>258</td>\n",
       "      <td>133</td>\n",
       "      <td>1734</td>\n",
       "      <td>1734</td>\n",
       "      <td>15</td>\n",
       "      <td>0</td>\n",
       "      <td>11</td>\n",
       "      <td>5</td>\n",
       "      <td>0</td>\n",
       "    </tr>\n",
       "    <tr>\n",
       "      <th>...</th>\n",
       "      <td>...</td>\n",
       "      <td>...</td>\n",
       "      <td>...</td>\n",
       "      <td>...</td>\n",
       "      <td>...</td>\n",
       "      <td>...</td>\n",
       "      <td>...</td>\n",
       "      <td>...</td>\n",
       "      <td>...</td>\n",
       "      <td>...</td>\n",
       "      <td>...</td>\n",
       "      <td>...</td>\n",
       "      <td>...</td>\n",
       "      <td>...</td>\n",
       "      <td>...</td>\n",
       "    </tr>\n",
       "    <tr>\n",
       "      <th>17447</th>\n",
       "      <td>3416</td>\n",
       "      <td>7610270@N03</td>\n",
       "      <td>9362346126_f9ef6d731a_o.jpg</td>\n",
       "      <td>1733</td>\n",
       "      <td>(25, 32)</td>\n",
       "      <td>m</td>\n",
       "      <td>688</td>\n",
       "      <td>1458</td>\n",
       "      <td>669</td>\n",
       "      <td>669</td>\n",
       "      <td>-85</td>\n",
       "      <td>0</td>\n",
       "      <td>95</td>\n",
       "      <td>4</td>\n",
       "      <td>1</td>\n",
       "    </tr>\n",
       "    <tr>\n",
       "      <th>17448</th>\n",
       "      <td>3417</td>\n",
       "      <td>7610270@N03</td>\n",
       "      <td>10162156533_3e27843d55_o.jpg</td>\n",
       "      <td>1734</td>\n",
       "      <td>(25, 32)</td>\n",
       "      <td>f</td>\n",
       "      <td>619</td>\n",
       "      <td>1281</td>\n",
       "      <td>638</td>\n",
       "      <td>637</td>\n",
       "      <td>195</td>\n",
       "      <td>0</td>\n",
       "      <td>119</td>\n",
       "      <td>4</td>\n",
       "      <td>0</td>\n",
       "    </tr>\n",
       "    <tr>\n",
       "      <th>17449</th>\n",
       "      <td>3418</td>\n",
       "      <td>10466455@N02</td>\n",
       "      <td>11922993085_634a1193fa_o.jpg</td>\n",
       "      <td>1735</td>\n",
       "      <td>(38, 43)</td>\n",
       "      <td>m</td>\n",
       "      <td>1319</td>\n",
       "      <td>109</td>\n",
       "      <td>1237</td>\n",
       "      <td>1237</td>\n",
       "      <td>-5</td>\n",
       "      <td>0</td>\n",
       "      <td>93</td>\n",
       "      <td>5</td>\n",
       "      <td>1</td>\n",
       "    </tr>\n",
       "    <tr>\n",
       "      <th>17450</th>\n",
       "      <td>3419</td>\n",
       "      <td>10466455@N02</td>\n",
       "      <td>11923013085_05915054c5_o.jpg</td>\n",
       "      <td>1735</td>\n",
       "      <td>(38, 43)</td>\n",
       "      <td>m</td>\n",
       "      <td>1644</td>\n",
       "      <td>787</td>\n",
       "      <td>262</td>\n",
       "      <td>261</td>\n",
       "      <td>-15</td>\n",
       "      <td>0</td>\n",
       "      <td>76</td>\n",
       "      <td>5</td>\n",
       "      <td>1</td>\n",
       "    </tr>\n",
       "    <tr>\n",
       "      <th>17451</th>\n",
       "      <td>3420</td>\n",
       "      <td>10466455@N02</td>\n",
       "      <td>11923871806_66e0bdf1ec_o.jpg</td>\n",
       "      <td>1735</td>\n",
       "      <td>(38, 43)</td>\n",
       "      <td>m</td>\n",
       "      <td>1490</td>\n",
       "      <td>763</td>\n",
       "      <td>299</td>\n",
       "      <td>300</td>\n",
       "      <td>0</td>\n",
       "      <td>0</td>\n",
       "      <td>91</td>\n",
       "      <td>5</td>\n",
       "      <td>1</td>\n",
       "    </tr>\n",
       "  </tbody>\n",
       "</table>\n",
       "<p>17452 rows × 15 columns</p>\n",
       "</div>"
      ],
      "text/plain": [
       "       index        user_id                original_image  face_id        age  \\\n",
       "0          0  114841417@N06  12068804204_085d553238_o.jpg      481  (60, 100)   \n",
       "1          1  114841417@N06  12068804204_085d553238_o.jpg      482   (48, 53)   \n",
       "2          2  114841417@N06  12078357226_5fdd9367de_o.jpg      483     (4, 6)   \n",
       "3          3  114841417@N06  12019067874_0e988248af_o.jpg      483     (4, 6)   \n",
       "4          4  114841417@N06  12077009614_2490487d2a_o.jpg      484         45   \n",
       "...      ...            ...                           ...      ...        ...   \n",
       "17447   3416    7610270@N03   9362346126_f9ef6d731a_o.jpg     1733   (25, 32)   \n",
       "17448   3417    7610270@N03  10162156533_3e27843d55_o.jpg     1734   (25, 32)   \n",
       "17449   3418   10466455@N02  11922993085_634a1193fa_o.jpg     1735   (38, 43)   \n",
       "17450   3419   10466455@N02  11923013085_05915054c5_o.jpg     1735   (38, 43)   \n",
       "17451   3420   10466455@N02  11923871806_66e0bdf1ec_o.jpg     1735   (38, 43)   \n",
       "\n",
       "      gender     x     y    dx    dy  tilt_ang  fiducial_yaw_angle  \\\n",
       "0          f  1141   780   975   976         0                   0   \n",
       "1          m  1821   283   969   969       -25                  15   \n",
       "2          f  1788   341   306   306       -10                   0   \n",
       "3          f     3   183   932   777      -115                   0   \n",
       "4          f   258   133  1734  1734        15                   0   \n",
       "...      ...   ...   ...   ...   ...       ...                 ...   \n",
       "17447      m   688  1458   669   669       -85                   0   \n",
       "17448      f   619  1281   638   637       195                   0   \n",
       "17449      m  1319   109  1237  1237        -5                   0   \n",
       "17450      m  1644   787   262   261       -15                   0   \n",
       "17451      m  1490   763   299   300         0                   0   \n",
       "\n",
       "       fiducial_score  age_  gender_  \n",
       "0                 118     7        0  \n",
       "1                  35     6        1  \n",
       "2                 168     1        0  \n",
       "3                  27     1        0  \n",
       "4                  11     5        0  \n",
       "...               ...   ...      ...  \n",
       "17447              95     4        1  \n",
       "17448             119     4        0  \n",
       "17449              93     5        1  \n",
       "17450              76     5        1  \n",
       "17451              91     5        1  \n",
       "\n",
       "[17452 rows x 15 columns]"
      ]
     },
     "execution_count": 25,
     "metadata": {},
     "output_type": "execute_result"
    }
   ],
   "source": [
    "data_set_1 = data_set_0.copy()\n",
    "data_set_1 = data_set_1.reset_index()\n",
    "data_set_1"
   ]
  },
  {
   "cell_type": "code",
   "execution_count": 35,
   "id": "980d794f-b860-41f5-a086-730687e0dac3",
   "metadata": {},
   "outputs": [],
   "source": [
    "# %cd '/Users/liangkun/675_Project/faces'"
   ]
  },
  {
   "cell_type": "code",
   "execution_count": 39,
   "id": "7690c58e-c500-442c-b1bb-0498e96eba4e",
   "metadata": {},
   "outputs": [],
   "source": [
    "# len(glob.glob('*')) # faces folder has all the user_id: 168"
   ]
  },
  {
   "cell_type": "code",
   "execution_count": 34,
   "id": "6b4feced-2fc3-414a-a50b-c56a485d7ff3",
   "metadata": {},
   "outputs": [],
   "source": [
    "# print('user_id' + str(data_set_1.user_id[0]))\n",
    "# print('face_id' + str(data_set_1.face_id[0]))"
   ]
  },
  {
   "cell_type": "markdown",
   "id": "e8aabebd-6f08-4db7-89ca-38018e7cc5a3",
   "metadata": {},
   "source": [
    "# try to plot the 1st image"
   ]
  },
  {
   "cell_type": "code",
   "execution_count": 37,
   "id": "7b70548f-1623-4bd9-8207-bb1f9560fedd",
   "metadata": {},
   "outputs": [
    {
     "data": {
      "text/plain": [
       "'/Users/liangkun/675_Project/faces/114841417@N06/coarse_tilt_aligned_face.481.12068804204_085d553238_o.jpg'"
      ]
     },
     "execution_count": 37,
     "metadata": {},
     "output_type": "execute_result"
    }
   ],
   "source": [
    "# get image path\n",
    "# img_path00 = data_path + \"/faces/\"+data_set_1.user_id[0]+\"/coarse_tilt_aligned_face.\"+str(data_set_1.face_id[0])+\".\"+data_set_1.original_image[0]\n",
    "# img_path00"
   ]
  },
  {
   "cell_type": "code",
   "execution_count": 38,
   "id": "cba7d747-81fd-41d7-9b68-55e3ec8dded0",
   "metadata": {},
   "outputs": [
    {
     "data": {
      "image/png": "[encoded data removed]",
      "text/plain": [
       "<Figure size 432x288 with 1 Axes>"
      ]
     },
     "metadata": {
      "needs_background": "light"
     },
     "output_type": "display_data"
    }
   ],
   "source": [
    "# img00 = PIL.Image.open(img_path00)\n",
    "# imgplot = plt.imshow(img00)\n",
    "# plt.show()"
   ]
  },
  {
   "cell_type": "code",
   "execution_count": 362,
   "id": "e79f61d2-f0b3-41a6-9b6c-3343322913ac",
   "metadata": {},
   "outputs": [
    {
     "data": {
      "text/plain": [
       "(601, 600, 3)"
      ]
     },
     "execution_count": 362,
     "metadata": {},
     "output_type": "execute_result"
    }
   ],
   "source": [
    "# np.array(img00).shape"
   ]
  },
  {
   "cell_type": "markdown",
   "id": "9e2d6e8d-9835-4ead-9550-9d6386cdb089",
   "metadata": {},
   "source": [
    "# transfer from RGB to grayscale "
   ]
  },
  {
   "cell_type": "markdown",
   "id": "f2b3487b-27b8-4706-b2ef-35b348f1788f",
   "metadata": {},
   "source": [
    "### 1st way"
   ]
  },
  {
   "cell_type": "code",
   "execution_count": 39,
   "id": "d12849ab-538c-4f78-ba2d-20ff25041e79",
   "metadata": {},
   "outputs": [
    {
     "data": {
      "image/png": "[encoded data removed]",
      "text/plain": [
       "<Figure size 432x288 with 1 Axes>"
      ]
     },
     "metadata": {
      "needs_background": "light"
     },
     "output_type": "display_data"
    }
   ],
   "source": [
    "# image00 = PIL.Image.open(img_path00)\n",
    "# gray_image00 = PIL.ImageOps.grayscale(image00)\n",
    "# imgplot = plt.imshow(gray_image00)\n",
    "# plt.show()"
   ]
  },
  {
   "cell_type": "code",
   "execution_count": 40,
   "id": "fe452eae-5fbc-4442-b81e-329514a51837",
   "metadata": {},
   "outputs": [
    {
     "data": {
      "text/plain": [
       "array([[251, 249, 251, ...,  60,  62,  62],\n",
       "       [246, 242, 246, ...,  57,  55,  52],\n",
       "       [250, 244, 237, ...,  59,  57,  55],\n",
       "       ...,\n",
       "       [ 45,  46,  48, ...,  93,  91,  86],\n",
       "       [ 45,  46,  48, ...,  87,  88,  86],\n",
       "       [ 43,  43,  45, ...,  88,  86,  85]], dtype=uint8)"
      ]
     },
     "execution_count": 40,
     "metadata": {},
     "output_type": "execute_result"
    }
   ],
   "source": [
    "# np.array(gray_image00)"
   ]
  },
  {
   "cell_type": "markdown",
   "id": "cdb00937-3f30-4cff-a47a-a4849943f9ab",
   "metadata": {},
   "source": [
    "### 2nd way to check whether the image is the greyscaled or not"
   ]
  },
  {
   "cell_type": "code",
   "execution_count": 41,
   "id": "a8b5dc29-9ab3-48e1-b7c6-fb6ebce70d62",
   "metadata": {},
   "outputs": [
    {
     "data": {
      "image/png": "[encoded data removed]",
      "text/plain": [
       "<Figure size 432x288 with 1 Axes>"
      ]
     },
     "metadata": {
      "needs_background": "light"
     },
     "output_type": "display_data"
    }
   ],
   "source": [
    "# img00 = mpimg.imread(img_path00)\n",
    "# R = img00[:,:,0]\n",
    "# G = img00[:,:,1]\n",
    "# B = img00[:,:,2]\n",
    "# imgGray = 0.2989 * R + 0.5870 * G + 0.1140 * B\n",
    "# plt.imshow(imgGray,cmap='gray')\n",
    "# plt.show()"
   ]
  },
  {
   "cell_type": "code",
   "execution_count": 42,
   "id": "a80c711a-20c0-47aa-b4ba-ce4c268d2b0b",
   "metadata": {},
   "outputs": [
    {
     "data": {
      "text/plain": [
       "array([[250.4945, 249.2065, 250.9675, ...,  60.0606,  62.0604,  62.2884],\n",
       "       [245.8047, 241.8051, 246.1637, ...,  57.0609,  55.2891,  52.2894],\n",
       "       [249.9075, 243.8758, 236.8765, ...,  59.0607,  57.2889,  55.2891],\n",
       "       ...,\n",
       "       [ 44.8771,  45.877 ,  48.1757, ...,  93.2267,  90.7539,  85.7544],\n",
       "       [ 44.9911,  45.991 ,  47.7027, ...,  87.2273,  88.2272,  86.2274],\n",
       "       [ 43.2794,  42.9913,  44.9911, ...,  87.9992,  86.2274,  85.2275]])"
      ]
     },
     "execution_count": 42,
     "metadata": {},
     "output_type": "execute_result"
    }
   ],
   "source": [
    "# np.array(imgGray)"
   ]
  },
  {
   "cell_type": "markdown",
   "id": "9ab51e4d-e2b4-47c5-9c0c-37b618a7b2bc",
   "metadata": {},
   "source": [
    "# transfer from greyscale jpeg to np.array"
   ]
  },
  {
   "cell_type": "code",
   "execution_count": 43,
   "id": "58e54a9a-6ad0-4df5-be13-d9bb2254d5c6",
   "metadata": {},
   "outputs": [
    {
     "data": {
      "image/png": "[encoded data removed]",
      "text/plain": [
       "<PIL.Image.Image image mode=L size=48x48 at 0x7FF33A2D78B0>"
      ]
     },
     "execution_count": 43,
     "metadata": {},
     "output_type": "execute_result"
    }
   ],
   "source": [
    "# downsize_image00 = gray_image00.resize((48,48),Image.ANTIALIAS)\n",
    "# downsize_image00"
   ]
  },
  {
   "cell_type": "code",
   "execution_count": 44,
   "id": "57cbceaa-09d2-44f0-b476-f3d86f7af446",
   "metadata": {},
   "outputs": [
    {
     "data": {
      "text/plain": [
       "array([[210, 115, 191, ...,  72,  61,  59],\n",
       "       [180,  99, 221, ...,  81,  57,  58],\n",
       "       [211, 129, 219, ...,  88,  53,  52],\n",
       "       ...,\n",
       "       [113, 105, 109, ...,  44,  50,  52],\n",
       "       [ 62,  71,  70, ...,  52,  76,  96],\n",
       "       [ 51,  61,  67, ...,  75,  93,  95]], dtype=uint8)"
      ]
     },
     "execution_count": 44,
     "metadata": {},
     "output_type": "execute_result"
    }
   ],
   "source": [
    "# np.array(downsize_image00)"
   ]
  },
  {
   "cell_type": "code",
   "execution_count": 45,
   "id": "83387585-4d0f-406c-8d71-441e6b9bad8e",
   "metadata": {},
   "outputs": [
    {
     "data": {
      "image/png": "[encoded data removed]",
      "text/plain": [
       "<PIL.Image.Image image mode=L size=600x600 at 0x7FF33A2E3D90>"
      ]
     },
     "execution_count": 45,
     "metadata": {},
     "output_type": "execute_result"
    }
   ],
   "source": [
    "# blowup_image = downsize_image00.resize((600, 600),Image.ANTIALIAS)\n",
    "# blowup_image"
   ]
  },
  {
   "cell_type": "code",
   "execution_count": 46,
   "id": "b76d95cf-c579-43d6-b342-3d7a2e84bdf4",
   "metadata": {},
   "outputs": [],
   "source": [
    "# downsize_image00 = np.array(downsize_image00) "
   ]
  },
  {
   "cell_type": "code",
   "execution_count": 47,
   "id": "a218ed55-f087-4946-a23d-61371b8da213",
   "metadata": {},
   "outputs": [
    {
     "data": {
      "text/plain": [
       "(48, 48)"
      ]
     },
     "execution_count": 47,
     "metadata": {},
     "output_type": "execute_result"
    }
   ],
   "source": [
    "# downsize_image00.shape"
   ]
  },
  {
   "cell_type": "code",
   "execution_count": 49,
   "id": "aa582874-986c-441e-bc45-21448f26bddf",
   "metadata": {},
   "outputs": [
    {
     "data": {
      "text/plain": [
       "array([[210, 115, 191, ...,  72,  61,  59],\n",
       "       [180,  99, 221, ...,  81,  57,  58],\n",
       "       [211, 129, 219, ...,  88,  53,  52],\n",
       "       ...,\n",
       "       [113, 105, 109, ...,  44,  50,  52],\n",
       "       [ 62,  71,  70, ...,  52,  76,  96],\n",
       "       [ 51,  61,  67, ...,  75,  93,  95]], dtype=uint8)"
      ]
     },
     "execution_count": 49,
     "metadata": {},
     "output_type": "execute_result"
    }
   ],
   "source": [
    "downsize_image00"
   ]
  },
  {
   "cell_type": "markdown",
   "id": "c4b84f94-6c73-44f9-addb-2fc4323c329f",
   "metadata": {},
   "source": [
    "# write a function to batch transfer"
   ]
  },
  {
   "cell_type": "markdown",
   "id": "fc30c86a-0af5-44e8-9c3f-d3e650af0244",
   "metadata": {},
   "source": [
    "## 1. first let's have a column storing the image path"
   ]
  },
  {
   "cell_type": "code",
   "execution_count": 26,
   "id": "758c2f29-4159-41e2-8dcb-308f28efbf4b",
   "metadata": {},
   "outputs": [],
   "source": [
    "img_path = []\n",
    "for row in data_set_1.iterrows():\n",
    "    # each row is a tuple, 1st element is the index, 2nd element is the info\n",
    "    path = data_path + \"/faces/\"+row[1].user_id+\"/coarse_tilt_aligned_face.\"+str(row[1].face_id)+\".\"+row[1].original_image\n",
    "    img_path.append(path)\n",
    "\n",
    "# add this list to dataframe\n",
    "data_set_1['img_path'] = img_path"
   ]
  },
  {
   "cell_type": "code",
   "execution_count": 27,
   "id": "11c8d965-2e44-4ec7-84cb-6f9a37c3bb1d",
   "metadata": {},
   "outputs": [
    {
     "data": {
      "text/html": [
       "<div>\n",
       "<style scoped>\n",
       "    .dataframe tbody tr th:only-of-type {\n",
       "        vertical-align: middle;\n",
       "    }\n",
       "\n",
       "    .dataframe tbody tr th {\n",
       "        vertical-align: top;\n",
       "    }\n",
       "\n",
       "    .dataframe thead th {\n",
       "        text-align: right;\n",
       "    }\n",
       "</style>\n",
       "<table border=\"1\" class=\"dataframe\">\n",
       "  <thead>\n",
       "    <tr style=\"text-align: right;\">\n",
       "      <th></th>\n",
       "      <th>index</th>\n",
       "      <th>user_id</th>\n",
       "      <th>original_image</th>\n",
       "      <th>face_id</th>\n",
       "      <th>age</th>\n",
       "      <th>gender</th>\n",
       "      <th>x</th>\n",
       "      <th>y</th>\n",
       "      <th>dx</th>\n",
       "      <th>dy</th>\n",
       "      <th>tilt_ang</th>\n",
       "      <th>fiducial_yaw_angle</th>\n",
       "      <th>fiducial_score</th>\n",
       "      <th>age_</th>\n",
       "      <th>gender_</th>\n",
       "      <th>img_path</th>\n",
       "    </tr>\n",
       "  </thead>\n",
       "  <tbody>\n",
       "    <tr>\n",
       "      <th>0</th>\n",
       "      <td>0</td>\n",
       "      <td>114841417@N06</td>\n",
       "      <td>12068804204_085d553238_o.jpg</td>\n",
       "      <td>481</td>\n",
       "      <td>(60, 100)</td>\n",
       "      <td>f</td>\n",
       "      <td>1141</td>\n",
       "      <td>780</td>\n",
       "      <td>975</td>\n",
       "      <td>976</td>\n",
       "      <td>0</td>\n",
       "      <td>0</td>\n",
       "      <td>118</td>\n",
       "      <td>7</td>\n",
       "      <td>0</td>\n",
       "      <td>/Users/liangkun/675_Project/faces/114841417@N0...</td>\n",
       "    </tr>\n",
       "    <tr>\n",
       "      <th>1</th>\n",
       "      <td>1</td>\n",
       "      <td>114841417@N06</td>\n",
       "      <td>12068804204_085d553238_o.jpg</td>\n",
       "      <td>482</td>\n",
       "      <td>(48, 53)</td>\n",
       "      <td>m</td>\n",
       "      <td>1821</td>\n",
       "      <td>283</td>\n",
       "      <td>969</td>\n",
       "      <td>969</td>\n",
       "      <td>-25</td>\n",
       "      <td>15</td>\n",
       "      <td>35</td>\n",
       "      <td>6</td>\n",
       "      <td>1</td>\n",
       "      <td>/Users/liangkun/675_Project/faces/114841417@N0...</td>\n",
       "    </tr>\n",
       "    <tr>\n",
       "      <th>2</th>\n",
       "      <td>2</td>\n",
       "      <td>114841417@N06</td>\n",
       "      <td>12078357226_5fdd9367de_o.jpg</td>\n",
       "      <td>483</td>\n",
       "      <td>(4, 6)</td>\n",
       "      <td>f</td>\n",
       "      <td>1788</td>\n",
       "      <td>341</td>\n",
       "      <td>306</td>\n",
       "      <td>306</td>\n",
       "      <td>-10</td>\n",
       "      <td>0</td>\n",
       "      <td>168</td>\n",
       "      <td>1</td>\n",
       "      <td>0</td>\n",
       "      <td>/Users/liangkun/675_Project/faces/114841417@N0...</td>\n",
       "    </tr>\n",
       "    <tr>\n",
       "      <th>3</th>\n",
       "      <td>3</td>\n",
       "      <td>114841417@N06</td>\n",
       "      <td>12019067874_0e988248af_o.jpg</td>\n",
       "      <td>483</td>\n",
       "      <td>(4, 6)</td>\n",
       "      <td>f</td>\n",
       "      <td>3</td>\n",
       "      <td>183</td>\n",
       "      <td>932</td>\n",
       "      <td>777</td>\n",
       "      <td>-115</td>\n",
       "      <td>0</td>\n",
       "      <td>27</td>\n",
       "      <td>1</td>\n",
       "      <td>0</td>\n",
       "      <td>/Users/liangkun/675_Project/faces/114841417@N0...</td>\n",
       "    </tr>\n",
       "    <tr>\n",
       "      <th>4</th>\n",
       "      <td>4</td>\n",
       "      <td>114841417@N06</td>\n",
       "      <td>12077009614_2490487d2a_o.jpg</td>\n",
       "      <td>484</td>\n",
       "      <td>45</td>\n",
       "      <td>f</td>\n",
       "      <td>258</td>\n",
       "      <td>133</td>\n",
       "      <td>1734</td>\n",
       "      <td>1734</td>\n",
       "      <td>15</td>\n",
       "      <td>0</td>\n",
       "      <td>11</td>\n",
       "      <td>5</td>\n",
       "      <td>0</td>\n",
       "      <td>/Users/liangkun/675_Project/faces/114841417@N0...</td>\n",
       "    </tr>\n",
       "    <tr>\n",
       "      <th>...</th>\n",
       "      <td>...</td>\n",
       "      <td>...</td>\n",
       "      <td>...</td>\n",
       "      <td>...</td>\n",
       "      <td>...</td>\n",
       "      <td>...</td>\n",
       "      <td>...</td>\n",
       "      <td>...</td>\n",
       "      <td>...</td>\n",
       "      <td>...</td>\n",
       "      <td>...</td>\n",
       "      <td>...</td>\n",
       "      <td>...</td>\n",
       "      <td>...</td>\n",
       "      <td>...</td>\n",
       "      <td>...</td>\n",
       "    </tr>\n",
       "    <tr>\n",
       "      <th>17447</th>\n",
       "      <td>3416</td>\n",
       "      <td>7610270@N03</td>\n",
       "      <td>9362346126_f9ef6d731a_o.jpg</td>\n",
       "      <td>1733</td>\n",
       "      <td>(25, 32)</td>\n",
       "      <td>m</td>\n",
       "      <td>688</td>\n",
       "      <td>1458</td>\n",
       "      <td>669</td>\n",
       "      <td>669</td>\n",
       "      <td>-85</td>\n",
       "      <td>0</td>\n",
       "      <td>95</td>\n",
       "      <td>4</td>\n",
       "      <td>1</td>\n",
       "      <td>/Users/liangkun/675_Project/faces/7610270@N03/...</td>\n",
       "    </tr>\n",
       "    <tr>\n",
       "      <th>17448</th>\n",
       "      <td>3417</td>\n",
       "      <td>7610270@N03</td>\n",
       "      <td>10162156533_3e27843d55_o.jpg</td>\n",
       "      <td>1734</td>\n",
       "      <td>(25, 32)</td>\n",
       "      <td>f</td>\n",
       "      <td>619</td>\n",
       "      <td>1281</td>\n",
       "      <td>638</td>\n",
       "      <td>637</td>\n",
       "      <td>195</td>\n",
       "      <td>0</td>\n",
       "      <td>119</td>\n",
       "      <td>4</td>\n",
       "      <td>0</td>\n",
       "      <td>/Users/liangkun/675_Project/faces/7610270@N03/...</td>\n",
       "    </tr>\n",
       "    <tr>\n",
       "      <th>17449</th>\n",
       "      <td>3418</td>\n",
       "      <td>10466455@N02</td>\n",
       "      <td>11922993085_634a1193fa_o.jpg</td>\n",
       "      <td>1735</td>\n",
       "      <td>(38, 43)</td>\n",
       "      <td>m</td>\n",
       "      <td>1319</td>\n",
       "      <td>109</td>\n",
       "      <td>1237</td>\n",
       "      <td>1237</td>\n",
       "      <td>-5</td>\n",
       "      <td>0</td>\n",
       "      <td>93</td>\n",
       "      <td>5</td>\n",
       "      <td>1</td>\n",
       "      <td>/Users/liangkun/675_Project/faces/10466455@N02...</td>\n",
       "    </tr>\n",
       "    <tr>\n",
       "      <th>17450</th>\n",
       "      <td>3419</td>\n",
       "      <td>10466455@N02</td>\n",
       "      <td>11923013085_05915054c5_o.jpg</td>\n",
       "      <td>1735</td>\n",
       "      <td>(38, 43)</td>\n",
       "      <td>m</td>\n",
       "      <td>1644</td>\n",
       "      <td>787</td>\n",
       "      <td>262</td>\n",
       "      <td>261</td>\n",
       "      <td>-15</td>\n",
       "      <td>0</td>\n",
       "      <td>76</td>\n",
       "      <td>5</td>\n",
       "      <td>1</td>\n",
       "      <td>/Users/liangkun/675_Project/faces/10466455@N02...</td>\n",
       "    </tr>\n",
       "    <tr>\n",
       "      <th>17451</th>\n",
       "      <td>3420</td>\n",
       "      <td>10466455@N02</td>\n",
       "      <td>11923871806_66e0bdf1ec_o.jpg</td>\n",
       "      <td>1735</td>\n",
       "      <td>(38, 43)</td>\n",
       "      <td>m</td>\n",
       "      <td>1490</td>\n",
       "      <td>763</td>\n",
       "      <td>299</td>\n",
       "      <td>300</td>\n",
       "      <td>0</td>\n",
       "      <td>0</td>\n",
       "      <td>91</td>\n",
       "      <td>5</td>\n",
       "      <td>1</td>\n",
       "      <td>/Users/liangkun/675_Project/faces/10466455@N02...</td>\n",
       "    </tr>\n",
       "  </tbody>\n",
       "</table>\n",
       "<p>17452 rows × 16 columns</p>\n",
       "</div>"
      ],
      "text/plain": [
       "       index        user_id                original_image  face_id        age  \\\n",
       "0          0  114841417@N06  12068804204_085d553238_o.jpg      481  (60, 100)   \n",
       "1          1  114841417@N06  12068804204_085d553238_o.jpg      482   (48, 53)   \n",
       "2          2  114841417@N06  12078357226_5fdd9367de_o.jpg      483     (4, 6)   \n",
       "3          3  114841417@N06  12019067874_0e988248af_o.jpg      483     (4, 6)   \n",
       "4          4  114841417@N06  12077009614_2490487d2a_o.jpg      484         45   \n",
       "...      ...            ...                           ...      ...        ...   \n",
       "17447   3416    7610270@N03   9362346126_f9ef6d731a_o.jpg     1733   (25, 32)   \n",
       "17448   3417    7610270@N03  10162156533_3e27843d55_o.jpg     1734   (25, 32)   \n",
       "17449   3418   10466455@N02  11922993085_634a1193fa_o.jpg     1735   (38, 43)   \n",
       "17450   3419   10466455@N02  11923013085_05915054c5_o.jpg     1735   (38, 43)   \n",
       "17451   3420   10466455@N02  11923871806_66e0bdf1ec_o.jpg     1735   (38, 43)   \n",
       "\n",
       "      gender     x     y    dx    dy  tilt_ang  fiducial_yaw_angle  \\\n",
       "0          f  1141   780   975   976         0                   0   \n",
       "1          m  1821   283   969   969       -25                  15   \n",
       "2          f  1788   341   306   306       -10                   0   \n",
       "3          f     3   183   932   777      -115                   0   \n",
       "4          f   258   133  1734  1734        15                   0   \n",
       "...      ...   ...   ...   ...   ...       ...                 ...   \n",
       "17447      m   688  1458   669   669       -85                   0   \n",
       "17448      f   619  1281   638   637       195                   0   \n",
       "17449      m  1319   109  1237  1237        -5                   0   \n",
       "17450      m  1644   787   262   261       -15                   0   \n",
       "17451      m  1490   763   299   300         0                   0   \n",
       "\n",
       "       fiducial_score  age_  gender_  \\\n",
       "0                 118     7        0   \n",
       "1                  35     6        1   \n",
       "2                 168     1        0   \n",
       "3                  27     1        0   \n",
       "4                  11     5        0   \n",
       "...               ...   ...      ...   \n",
       "17447              95     4        1   \n",
       "17448             119     4        0   \n",
       "17449              93     5        1   \n",
       "17450              76     5        1   \n",
       "17451              91     5        1   \n",
       "\n",
       "                                                img_path  \n",
       "0      /Users/liangkun/675_Project/faces/114841417@N0...  \n",
       "1      /Users/liangkun/675_Project/faces/114841417@N0...  \n",
       "2      /Users/liangkun/675_Project/faces/114841417@N0...  \n",
       "3      /Users/liangkun/675_Project/faces/114841417@N0...  \n",
       "4      /Users/liangkun/675_Project/faces/114841417@N0...  \n",
       "...                                                  ...  \n",
       "17447  /Users/liangkun/675_Project/faces/7610270@N03/...  \n",
       "17448  /Users/liangkun/675_Project/faces/7610270@N03/...  \n",
       "17449  /Users/liangkun/675_Project/faces/10466455@N02...  \n",
       "17450  /Users/liangkun/675_Project/faces/10466455@N02...  \n",
       "17451  /Users/liangkun/675_Project/faces/10466455@N02...  \n",
       "\n",
       "[17452 rows x 16 columns]"
      ]
     },
     "execution_count": 27,
     "metadata": {},
     "output_type": "execute_result"
    }
   ],
   "source": [
    "data_set_1"
   ]
  },
  {
   "cell_type": "markdown",
   "id": "2024adf0-02d9-4012-98da-c7f52a666e68",
   "metadata": {},
   "source": [
    "## 2. adding a column storing the image array\n"
   ]
  },
  {
   "cell_type": "code",
   "execution_count": 28,
   "id": "9a255304-0e1d-4034-afdb-1e7863231eb0",
   "metadata": {},
   "outputs": [],
   "source": [
    "img_array = []\n",
    "for row in data_set_1.iterrows():\n",
    "    # each row is a tuple, 1st element is the index, 2nd element is the info\n",
    "    image = PIL.Image.open(row[1].img_path)\n",
    "    gray_image = PIL.ImageOps.grayscale(image)\n",
    "#     04/25 version1 reduce the picture size:\n",
    "    downsize_image = gray_image.resize((48,48),Image.ANTIALIAS)\n",
    "    downsize_image_array = np.array(downsize_image)\n",
    "    img_array.append(downsize_image_array)\n",
    "\n",
    "#     05/01 version 2: no down_size because we can reduce it in pytorch/tensorflow\n",
    "#     image_array = np.array(gray_image)\n",
    "#     img_array.append(image_array)\n",
    "    "
   ]
  },
  {
   "cell_type": "code",
   "execution_count": 29,
   "id": "b44fd268-3bd7-4de6-a623-684235522c31",
   "metadata": {},
   "outputs": [],
   "source": [
    "data_set_1['image_array'] = img_array"
   ]
  },
  {
   "cell_type": "code",
   "execution_count": 30,
   "id": "4b410dbb-d68d-4f70-8509-cc3dc90d30c9",
   "metadata": {},
   "outputs": [
    {
     "data": {
      "text/html": [
       "<div>\n",
       "<style scoped>\n",
       "    .dataframe tbody tr th:only-of-type {\n",
       "        vertical-align: middle;\n",
       "    }\n",
       "\n",
       "    .dataframe tbody tr th {\n",
       "        vertical-align: top;\n",
       "    }\n",
       "\n",
       "    .dataframe thead th {\n",
       "        text-align: right;\n",
       "    }\n",
       "</style>\n",
       "<table border=\"1\" class=\"dataframe\">\n",
       "  <thead>\n",
       "    <tr style=\"text-align: right;\">\n",
       "      <th></th>\n",
       "      <th>index</th>\n",
       "      <th>user_id</th>\n",
       "      <th>original_image</th>\n",
       "      <th>face_id</th>\n",
       "      <th>age</th>\n",
       "      <th>gender</th>\n",
       "      <th>x</th>\n",
       "      <th>y</th>\n",
       "      <th>dx</th>\n",
       "      <th>dy</th>\n",
       "      <th>tilt_ang</th>\n",
       "      <th>fiducial_yaw_angle</th>\n",
       "      <th>fiducial_score</th>\n",
       "      <th>age_</th>\n",
       "      <th>gender_</th>\n",
       "      <th>img_path</th>\n",
       "      <th>image_array</th>\n",
       "    </tr>\n",
       "  </thead>\n",
       "  <tbody>\n",
       "    <tr>\n",
       "      <th>0</th>\n",
       "      <td>0</td>\n",
       "      <td>114841417@N06</td>\n",
       "      <td>12068804204_085d553238_o.jpg</td>\n",
       "      <td>481</td>\n",
       "      <td>(60, 100)</td>\n",
       "      <td>f</td>\n",
       "      <td>1141</td>\n",
       "      <td>780</td>\n",
       "      <td>975</td>\n",
       "      <td>976</td>\n",
       "      <td>0</td>\n",
       "      <td>0</td>\n",
       "      <td>118</td>\n",
       "      <td>7</td>\n",
       "      <td>0</td>\n",
       "      <td>/Users/liangkun/675_Project/faces/114841417@N0...</td>\n",
       "      <td>[[210, 115, 191, 249, 152, 229, 255, 254, 255,...</td>\n",
       "    </tr>\n",
       "    <tr>\n",
       "      <th>1</th>\n",
       "      <td>1</td>\n",
       "      <td>114841417@N06</td>\n",
       "      <td>12068804204_085d553238_o.jpg</td>\n",
       "      <td>482</td>\n",
       "      <td>(48, 53)</td>\n",
       "      <td>m</td>\n",
       "      <td>1821</td>\n",
       "      <td>283</td>\n",
       "      <td>969</td>\n",
       "      <td>969</td>\n",
       "      <td>-25</td>\n",
       "      <td>15</td>\n",
       "      <td>35</td>\n",
       "      <td>6</td>\n",
       "      <td>1</td>\n",
       "      <td>/Users/liangkun/675_Project/faces/114841417@N0...</td>\n",
       "      <td>[[0, 0, 0, 0, 0, 0, 2, 0, 72, 150, 139, 143, 1...</td>\n",
       "    </tr>\n",
       "    <tr>\n",
       "      <th>2</th>\n",
       "      <td>2</td>\n",
       "      <td>114841417@N06</td>\n",
       "      <td>12078357226_5fdd9367de_o.jpg</td>\n",
       "      <td>483</td>\n",
       "      <td>(4, 6)</td>\n",
       "      <td>f</td>\n",
       "      <td>1788</td>\n",
       "      <td>341</td>\n",
       "      <td>306</td>\n",
       "      <td>306</td>\n",
       "      <td>-10</td>\n",
       "      <td>0</td>\n",
       "      <td>168</td>\n",
       "      <td>1</td>\n",
       "      <td>0</td>\n",
       "      <td>/Users/liangkun/675_Project/faces/114841417@N0...</td>\n",
       "      <td>[[0, 0, 0, 3, 14, 13, 7, 2, 2, 3, 4, 12, 22, 3...</td>\n",
       "    </tr>\n",
       "    <tr>\n",
       "      <th>3</th>\n",
       "      <td>3</td>\n",
       "      <td>114841417@N06</td>\n",
       "      <td>12019067874_0e988248af_o.jpg</td>\n",
       "      <td>483</td>\n",
       "      <td>(4, 6)</td>\n",
       "      <td>f</td>\n",
       "      <td>3</td>\n",
       "      <td>183</td>\n",
       "      <td>932</td>\n",
       "      <td>777</td>\n",
       "      <td>-115</td>\n",
       "      <td>0</td>\n",
       "      <td>27</td>\n",
       "      <td>1</td>\n",
       "      <td>0</td>\n",
       "      <td>/Users/liangkun/675_Project/faces/114841417@N0...</td>\n",
       "      <td>[[0, 0, 0, 0, 0, 0, 0, 0, 2, 0, 40, 126, 108, ...</td>\n",
       "    </tr>\n",
       "    <tr>\n",
       "      <th>4</th>\n",
       "      <td>4</td>\n",
       "      <td>114841417@N06</td>\n",
       "      <td>12077009614_2490487d2a_o.jpg</td>\n",
       "      <td>484</td>\n",
       "      <td>45</td>\n",
       "      <td>f</td>\n",
       "      <td>258</td>\n",
       "      <td>133</td>\n",
       "      <td>1734</td>\n",
       "      <td>1734</td>\n",
       "      <td>15</td>\n",
       "      <td>0</td>\n",
       "      <td>11</td>\n",
       "      <td>5</td>\n",
       "      <td>0</td>\n",
       "      <td>/Users/liangkun/675_Project/faces/114841417@N0...</td>\n",
       "      <td>[[0, 0, 0, 0, 0, 0, 0, 0, 0, 0, 0, 1, 0, 0, 0,...</td>\n",
       "    </tr>\n",
       "    <tr>\n",
       "      <th>...</th>\n",
       "      <td>...</td>\n",
       "      <td>...</td>\n",
       "      <td>...</td>\n",
       "      <td>...</td>\n",
       "      <td>...</td>\n",
       "      <td>...</td>\n",
       "      <td>...</td>\n",
       "      <td>...</td>\n",
       "      <td>...</td>\n",
       "      <td>...</td>\n",
       "      <td>...</td>\n",
       "      <td>...</td>\n",
       "      <td>...</td>\n",
       "      <td>...</td>\n",
       "      <td>...</td>\n",
       "      <td>...</td>\n",
       "      <td>...</td>\n",
       "    </tr>\n",
       "    <tr>\n",
       "      <th>17447</th>\n",
       "      <td>3416</td>\n",
       "      <td>7610270@N03</td>\n",
       "      <td>9362346126_f9ef6d731a_o.jpg</td>\n",
       "      <td>1733</td>\n",
       "      <td>(25, 32)</td>\n",
       "      <td>m</td>\n",
       "      <td>688</td>\n",
       "      <td>1458</td>\n",
       "      <td>669</td>\n",
       "      <td>669</td>\n",
       "      <td>-85</td>\n",
       "      <td>0</td>\n",
       "      <td>95</td>\n",
       "      <td>4</td>\n",
       "      <td>1</td>\n",
       "      <td>/Users/liangkun/675_Project/faces/7610270@N03/...</td>\n",
       "      <td>[[0, 0, 0, 0, 0, 0, 0, 0, 0, 0, 5, 16, 30, 46,...</td>\n",
       "    </tr>\n",
       "    <tr>\n",
       "      <th>17448</th>\n",
       "      <td>3417</td>\n",
       "      <td>7610270@N03</td>\n",
       "      <td>10162156533_3e27843d55_o.jpg</td>\n",
       "      <td>1734</td>\n",
       "      <td>(25, 32)</td>\n",
       "      <td>f</td>\n",
       "      <td>619</td>\n",
       "      <td>1281</td>\n",
       "      <td>638</td>\n",
       "      <td>637</td>\n",
       "      <td>195</td>\n",
       "      <td>0</td>\n",
       "      <td>119</td>\n",
       "      <td>4</td>\n",
       "      <td>0</td>\n",
       "      <td>/Users/liangkun/675_Project/faces/7610270@N03/...</td>\n",
       "      <td>[[0, 0, 0, 0, 0, 0, 0, 0, 0, 1, 2, 2, 1, 0, 0,...</td>\n",
       "    </tr>\n",
       "    <tr>\n",
       "      <th>17449</th>\n",
       "      <td>3418</td>\n",
       "      <td>10466455@N02</td>\n",
       "      <td>11922993085_634a1193fa_o.jpg</td>\n",
       "      <td>1735</td>\n",
       "      <td>(38, 43)</td>\n",
       "      <td>m</td>\n",
       "      <td>1319</td>\n",
       "      <td>109</td>\n",
       "      <td>1237</td>\n",
       "      <td>1237</td>\n",
       "      <td>-5</td>\n",
       "      <td>0</td>\n",
       "      <td>93</td>\n",
       "      <td>5</td>\n",
       "      <td>1</td>\n",
       "      <td>/Users/liangkun/675_Project/faces/10466455@N02...</td>\n",
       "      <td>[[0, 7, 96, 158, 237, 255, 222, 160, 114, 110,...</td>\n",
       "    </tr>\n",
       "    <tr>\n",
       "      <th>17450</th>\n",
       "      <td>3419</td>\n",
       "      <td>10466455@N02</td>\n",
       "      <td>11923013085_05915054c5_o.jpg</td>\n",
       "      <td>1735</td>\n",
       "      <td>(38, 43)</td>\n",
       "      <td>m</td>\n",
       "      <td>1644</td>\n",
       "      <td>787</td>\n",
       "      <td>262</td>\n",
       "      <td>261</td>\n",
       "      <td>-15</td>\n",
       "      <td>0</td>\n",
       "      <td>76</td>\n",
       "      <td>5</td>\n",
       "      <td>1</td>\n",
       "      <td>/Users/liangkun/675_Project/faces/10466455@N02...</td>\n",
       "      <td>[[0, 0, 0, 3, 0, 119, 222, 228, 250, 255, 255,...</td>\n",
       "    </tr>\n",
       "    <tr>\n",
       "      <th>17451</th>\n",
       "      <td>3420</td>\n",
       "      <td>10466455@N02</td>\n",
       "      <td>11923871806_66e0bdf1ec_o.jpg</td>\n",
       "      <td>1735</td>\n",
       "      <td>(38, 43)</td>\n",
       "      <td>m</td>\n",
       "      <td>1490</td>\n",
       "      <td>763</td>\n",
       "      <td>299</td>\n",
       "      <td>300</td>\n",
       "      <td>0</td>\n",
       "      <td>0</td>\n",
       "      <td>91</td>\n",
       "      <td>5</td>\n",
       "      <td>1</td>\n",
       "      <td>/Users/liangkun/675_Project/faces/10466455@N02...</td>\n",
       "      <td>[[59, 55, 56, 56, 52, 46, 47, 49, 49, 51, 51, ...</td>\n",
       "    </tr>\n",
       "  </tbody>\n",
       "</table>\n",
       "<p>17452 rows × 17 columns</p>\n",
       "</div>"
      ],
      "text/plain": [
       "       index        user_id                original_image  face_id        age  \\\n",
       "0          0  114841417@N06  12068804204_085d553238_o.jpg      481  (60, 100)   \n",
       "1          1  114841417@N06  12068804204_085d553238_o.jpg      482   (48, 53)   \n",
       "2          2  114841417@N06  12078357226_5fdd9367de_o.jpg      483     (4, 6)   \n",
       "3          3  114841417@N06  12019067874_0e988248af_o.jpg      483     (4, 6)   \n",
       "4          4  114841417@N06  12077009614_2490487d2a_o.jpg      484         45   \n",
       "...      ...            ...                           ...      ...        ...   \n",
       "17447   3416    7610270@N03   9362346126_f9ef6d731a_o.jpg     1733   (25, 32)   \n",
       "17448   3417    7610270@N03  10162156533_3e27843d55_o.jpg     1734   (25, 32)   \n",
       "17449   3418   10466455@N02  11922993085_634a1193fa_o.jpg     1735   (38, 43)   \n",
       "17450   3419   10466455@N02  11923013085_05915054c5_o.jpg     1735   (38, 43)   \n",
       "17451   3420   10466455@N02  11923871806_66e0bdf1ec_o.jpg     1735   (38, 43)   \n",
       "\n",
       "      gender     x     y    dx    dy  tilt_ang  fiducial_yaw_angle  \\\n",
       "0          f  1141   780   975   976         0                   0   \n",
       "1          m  1821   283   969   969       -25                  15   \n",
       "2          f  1788   341   306   306       -10                   0   \n",
       "3          f     3   183   932   777      -115                   0   \n",
       "4          f   258   133  1734  1734        15                   0   \n",
       "...      ...   ...   ...   ...   ...       ...                 ...   \n",
       "17447      m   688  1458   669   669       -85                   0   \n",
       "17448      f   619  1281   638   637       195                   0   \n",
       "17449      m  1319   109  1237  1237        -5                   0   \n",
       "17450      m  1644   787   262   261       -15                   0   \n",
       "17451      m  1490   763   299   300         0                   0   \n",
       "\n",
       "       fiducial_score  age_  gender_  \\\n",
       "0                 118     7        0   \n",
       "1                  35     6        1   \n",
       "2                 168     1        0   \n",
       "3                  27     1        0   \n",
       "4                  11     5        0   \n",
       "...               ...   ...      ...   \n",
       "17447              95     4        1   \n",
       "17448             119     4        0   \n",
       "17449              93     5        1   \n",
       "17450              76     5        1   \n",
       "17451              91     5        1   \n",
       "\n",
       "                                                img_path  \\\n",
       "0      /Users/liangkun/675_Project/faces/114841417@N0...   \n",
       "1      /Users/liangkun/675_Project/faces/114841417@N0...   \n",
       "2      /Users/liangkun/675_Project/faces/114841417@N0...   \n",
       "3      /Users/liangkun/675_Project/faces/114841417@N0...   \n",
       "4      /Users/liangkun/675_Project/faces/114841417@N0...   \n",
       "...                                                  ...   \n",
       "17447  /Users/liangkun/675_Project/faces/7610270@N03/...   \n",
       "17448  /Users/liangkun/675_Project/faces/7610270@N03/...   \n",
       "17449  /Users/liangkun/675_Project/faces/10466455@N02...   \n",
       "17450  /Users/liangkun/675_Project/faces/10466455@N02...   \n",
       "17451  /Users/liangkun/675_Project/faces/10466455@N02...   \n",
       "\n",
       "                                             image_array  \n",
       "0      [[210, 115, 191, 249, 152, 229, 255, 254, 255,...  \n",
       "1      [[0, 0, 0, 0, 0, 0, 2, 0, 72, 150, 139, 143, 1...  \n",
       "2      [[0, 0, 0, 3, 14, 13, 7, 2, 2, 3, 4, 12, 22, 3...  \n",
       "3      [[0, 0, 0, 0, 0, 0, 0, 0, 2, 0, 40, 126, 108, ...  \n",
       "4      [[0, 0, 0, 0, 0, 0, 0, 0, 0, 0, 0, 1, 0, 0, 0,...  \n",
       "...                                                  ...  \n",
       "17447  [[0, 0, 0, 0, 0, 0, 0, 0, 0, 0, 5, 16, 30, 46,...  \n",
       "17448  [[0, 0, 0, 0, 0, 0, 0, 0, 0, 1, 2, 2, 1, 0, 0,...  \n",
       "17449  [[0, 7, 96, 158, 237, 255, 222, 160, 114, 110,...  \n",
       "17450  [[0, 0, 0, 3, 0, 119, 222, 228, 250, 255, 255,...  \n",
       "17451  [[59, 55, 56, 56, 52, 46, 47, 49, 49, 51, 51, ...  \n",
       "\n",
       "[17452 rows x 17 columns]"
      ]
     },
     "execution_count": 30,
     "metadata": {},
     "output_type": "execute_result"
    }
   ],
   "source": [
    "data_set_1"
   ]
  },
  {
   "cell_type": "markdown",
   "id": "5c1f6db5-4f96-4cf3-a22d-080379f43176",
   "metadata": {
    "tags": []
   },
   "source": [
    "## only need 3 columns, image_array, age_stage, gender"
   ]
  },
  {
   "cell_type": "code",
   "execution_count": 31,
   "id": "02beb0e4-bd38-4400-8aac-94c615ebdd6c",
   "metadata": {},
   "outputs": [],
   "source": [
    "# select 3 columns\n",
    "data_set_ = data_set_1[['image_array','age_','gender_']]\n",
    "# rename\n",
    "data_set_.columns = [['image_array','age_stage','gender']]"
   ]
  },
  {
   "cell_type": "code",
   "execution_count": 32,
   "id": "7b4e48da-84ba-4c3f-b2ae-55b9aef577b7",
   "metadata": {},
   "outputs": [
    {
     "data": {
      "text/html": [
       "<div>\n",
       "<style scoped>\n",
       "    .dataframe tbody tr th:only-of-type {\n",
       "        vertical-align: middle;\n",
       "    }\n",
       "\n",
       "    .dataframe tbody tr th {\n",
       "        vertical-align: top;\n",
       "    }\n",
       "\n",
       "    .dataframe thead tr th {\n",
       "        text-align: left;\n",
       "    }\n",
       "</style>\n",
       "<table border=\"1\" class=\"dataframe\">\n",
       "  <thead>\n",
       "    <tr>\n",
       "      <th></th>\n",
       "      <th>image_array</th>\n",
       "      <th>age_stage</th>\n",
       "      <th>gender</th>\n",
       "    </tr>\n",
       "  </thead>\n",
       "  <tbody>\n",
       "    <tr>\n",
       "      <th>0</th>\n",
       "      <td>[[210, 115, 191, 249, 152, 229, 255, 254, 255,...</td>\n",
       "      <td>7</td>\n",
       "      <td>0</td>\n",
       "    </tr>\n",
       "    <tr>\n",
       "      <th>1</th>\n",
       "      <td>[[0, 0, 0, 0, 0, 0, 2, 0, 72, 150, 139, 143, 1...</td>\n",
       "      <td>6</td>\n",
       "      <td>1</td>\n",
       "    </tr>\n",
       "    <tr>\n",
       "      <th>2</th>\n",
       "      <td>[[0, 0, 0, 3, 14, 13, 7, 2, 2, 3, 4, 12, 22, 3...</td>\n",
       "      <td>1</td>\n",
       "      <td>0</td>\n",
       "    </tr>\n",
       "    <tr>\n",
       "      <th>3</th>\n",
       "      <td>[[0, 0, 0, 0, 0, 0, 0, 0, 2, 0, 40, 126, 108, ...</td>\n",
       "      <td>1</td>\n",
       "      <td>0</td>\n",
       "    </tr>\n",
       "    <tr>\n",
       "      <th>4</th>\n",
       "      <td>[[0, 0, 0, 0, 0, 0, 0, 0, 0, 0, 0, 1, 0, 0, 0,...</td>\n",
       "      <td>5</td>\n",
       "      <td>0</td>\n",
       "    </tr>\n",
       "    <tr>\n",
       "      <th>...</th>\n",
       "      <td>...</td>\n",
       "      <td>...</td>\n",
       "      <td>...</td>\n",
       "    </tr>\n",
       "    <tr>\n",
       "      <th>17447</th>\n",
       "      <td>[[0, 0, 0, 0, 0, 0, 0, 0, 0, 0, 5, 16, 30, 46,...</td>\n",
       "      <td>4</td>\n",
       "      <td>1</td>\n",
       "    </tr>\n",
       "    <tr>\n",
       "      <th>17448</th>\n",
       "      <td>[[0, 0, 0, 0, 0, 0, 0, 0, 0, 1, 2, 2, 1, 0, 0,...</td>\n",
       "      <td>4</td>\n",
       "      <td>0</td>\n",
       "    </tr>\n",
       "    <tr>\n",
       "      <th>17449</th>\n",
       "      <td>[[0, 7, 96, 158, 237, 255, 222, 160, 114, 110,...</td>\n",
       "      <td>5</td>\n",
       "      <td>1</td>\n",
       "    </tr>\n",
       "    <tr>\n",
       "      <th>17450</th>\n",
       "      <td>[[0, 0, 0, 3, 0, 119, 222, 228, 250, 255, 255,...</td>\n",
       "      <td>5</td>\n",
       "      <td>1</td>\n",
       "    </tr>\n",
       "    <tr>\n",
       "      <th>17451</th>\n",
       "      <td>[[59, 55, 56, 56, 52, 46, 47, 49, 49, 51, 51, ...</td>\n",
       "      <td>5</td>\n",
       "      <td>1</td>\n",
       "    </tr>\n",
       "  </tbody>\n",
       "</table>\n",
       "<p>17452 rows × 3 columns</p>\n",
       "</div>"
      ],
      "text/plain": [
       "                                             image_array age_stage gender\n",
       "0      [[210, 115, 191, 249, 152, 229, 255, 254, 255,...         7      0\n",
       "1      [[0, 0, 0, 0, 0, 0, 2, 0, 72, 150, 139, 143, 1...         6      1\n",
       "2      [[0, 0, 0, 3, 14, 13, 7, 2, 2, 3, 4, 12, 22, 3...         1      0\n",
       "3      [[0, 0, 0, 0, 0, 0, 0, 0, 2, 0, 40, 126, 108, ...         1      0\n",
       "4      [[0, 0, 0, 0, 0, 0, 0, 0, 0, 0, 0, 1, 0, 0, 0,...         5      0\n",
       "...                                                  ...       ...    ...\n",
       "17447  [[0, 0, 0, 0, 0, 0, 0, 0, 0, 0, 5, 16, 30, 46,...         4      1\n",
       "17448  [[0, 0, 0, 0, 0, 0, 0, 0, 0, 1, 2, 2, 1, 0, 0,...         4      0\n",
       "17449  [[0, 7, 96, 158, 237, 255, 222, 160, 114, 110,...         5      1\n",
       "17450  [[0, 0, 0, 3, 0, 119, 222, 228, 250, 255, 255,...         5      1\n",
       "17451  [[59, 55, 56, 56, 52, 46, 47, 49, 49, 51, 51, ...         5      1\n",
       "\n",
       "[17452 rows x 3 columns]"
      ]
     },
     "execution_count": 32,
     "metadata": {},
     "output_type": "execute_result"
    }
   ],
   "source": [
    "# check\n",
    "data_set_"
   ]
  },
  {
   "cell_type": "code",
   "execution_count": 57,
   "id": "5d41b464-0021-4793-89ef-1cb84a66b88b",
   "metadata": {},
   "outputs": [
    {
     "data": {
      "text/plain": [
       "image_array    object\n",
       "age_stage       int64\n",
       "gender          int64\n",
       "dtype: object"
      ]
     },
     "execution_count": 57,
     "metadata": {},
     "output_type": "execute_result"
    }
   ],
   "source": [
    "data_set_.dtypes"
   ]
  },
  {
   "cell_type": "code",
   "execution_count": 58,
   "id": "efa997f7-853b-4600-b7c7-1de087a12b63",
   "metadata": {},
   "outputs": [
    {
     "data": {
      "text/plain": [
       "pandas.core.frame.DataFrame"
      ]
     },
     "execution_count": 58,
     "metadata": {},
     "output_type": "execute_result"
    }
   ],
   "source": [
    "type(data_set_)"
   ]
  },
  {
   "cell_type": "markdown",
   "id": "218461ea-77db-484d-92ed-e442ff776bc3",
   "metadata": {},
   "source": [
    "### out of curiosity, chech the 2nd image"
   ]
  },
  {
   "cell_type": "code",
   "execution_count": 33,
   "id": "1cdc0294-faa4-4a35-b7b3-d137f7a87f2c",
   "metadata": {},
   "outputs": [
    {
     "data": {
      "text/plain": [
       "<matplotlib.image.AxesImage at 0x7f7903efec10>"
      ]
     },
     "execution_count": 33,
     "metadata": {},
     "output_type": "execute_result"
    },
    {
     "data": {
      "image/png": "[encoded data removed]",
      "text/plain": [
       "<Figure size 432x288 with 1 Axes>"
      ]
     },
     "metadata": {
      "needs_background": "light"
     },
     "output_type": "display_data"
    }
   ],
   "source": [
    "pic12 = data_set_['image_array'].iloc[12][0]\n",
    "plt.imshow(pic12,cmap='gray')"
   ]
  },
  {
   "cell_type": "code",
   "execution_count": 34,
   "id": "8f1b7091-544d-40f2-8bb4-c83452d5a99e",
   "metadata": {},
   "outputs": [
    {
     "data": {
      "text/plain": [
       "<matplotlib.image.AxesImage at 0x7f78e931cb20>"
      ]
     },
     "execution_count": 34,
     "metadata": {},
     "output_type": "execute_result"
    },
    {
     "data": {
      "image/png": "[encoded data removed]",
      "text/plain": [
       "<Figure size 432x288 with 1 Axes>"
      ]
     },
     "metadata": {
      "needs_background": "light"
     },
     "output_type": "display_data"
    }
   ],
   "source": [
    "pic2 = data_set_['image_array'].iloc[2][0]\n",
    "plt.imshow(pic2,cmap='gray')"
   ]
  },
  {
   "cell_type": "code",
   "execution_count": 35,
   "id": "e3bf0776-d5e9-4c8a-86e5-c5359ca58447",
   "metadata": {},
   "outputs": [
    {
     "data": {
      "text/plain": [
       "<matplotlib.image.AxesImage at 0x7f78e9358790>"
      ]
     },
     "execution_count": 35,
     "metadata": {},
     "output_type": "execute_result"
    },
    {
     "data": {
      "image/png": "[encoded data removed]",
      "text/plain": [
       "<Figure size 432x288 with 1 Axes>"
      ]
     },
     "metadata": {
      "needs_background": "light"
     },
     "output_type": "display_data"
    }
   ],
   "source": [
    "pic9 = data_set_['image_array'].iloc[9][0]\n",
    "plt.imshow(pic9,cmap='gray')"
   ]
  },
  {
   "cell_type": "markdown",
   "id": "f340f045-2bd6-4b1e-bfbe-64713bd569b2",
   "metadata": {},
   "source": [
    "# big discovery, there are random rotations in the dataset"
   ]
  },
  {
   "cell_type": "code",
   "execution_count": null,
   "id": "d33228bc-ab77-4fc6-bede-038ccfe61b0f",
   "metadata": {},
   "outputs": [],
   "source": [
    "# no need to do tt.random rotation"
   ]
  },
  {
   "cell_type": "markdown",
   "id": "858df755-8a9b-485c-a86a-8cbb3d52fec0",
   "metadata": {},
   "source": [
    "# seperate dataset to train, val, test\n",
    "## 1. we have 17452 data --> seperate to train 0.6, val 0.2, test 0.2"
   ]
  },
  {
   "cell_type": "code",
   "execution_count": 36,
   "id": "88041998-2f8d-4ecd-8e05-57ee5e13d607",
   "metadata": {},
   "outputs": [],
   "source": [
    "train, validate, test = \\\n",
    "              np.split(data_set_.sample(frac=1, random_state=675), \n",
    "                       [int(.6*len(data_set_)), int(.8*len(data_set_))])"
   ]
  },
  {
   "cell_type": "code",
   "execution_count": 37,
   "id": "b2a2f138-843f-4454-8b97-37edb779fc0c",
   "metadata": {},
   "outputs": [
    {
     "name": "stdout",
     "output_type": "stream",
     "text": [
      "train shape: (10471, 3)\n",
      "val shape: (3490, 3)\n",
      "test shape: (3491, 3)\n"
     ]
    }
   ],
   "source": [
    "print('train shape: ' + str(train.shape))\n",
    "print('val shape: ' + str(validate.shape))\n",
    "print('test shape: '+ str(test.shape))"
   ]
  },
  {
   "cell_type": "code",
   "execution_count": 38,
   "id": "e355efe5-14ca-49d7-b1bd-e5c51d0cc52c",
   "metadata": {},
   "outputs": [],
   "source": [
    "# seperate each dataset to 3 dataframes, image, age, gender, and preserve it to pickle\n",
    "# train\n",
    "img_array_train = train[['image_array']]\n",
    "age_groups_train = train[['age_stage']]\n",
    "gender_train = train[['gender']]\n",
    "\n",
    "# val\n",
    "img_array_val = validate[['image_array']]\n",
    "age_groups_val = validate[['age_stage']]\n",
    "gender_val = validate[['gender']]\n",
    "\n",
    "# test \n",
    "img_array_test = test[['image_array']]\n",
    "age_groups_test = test[['age_stage']]\n",
    "gender_test = test[['gender']]"
   ]
  },
  {
   "cell_type": "markdown",
   "id": "a18b74cf-f3a7-400b-9360-d8b5adfdd120",
   "metadata": {},
   "source": [
    "## check if the index is aligned --> yes"
   ]
  },
  {
   "cell_type": "code",
   "execution_count": 39,
   "id": "c1904ef1-c8a3-49c3-ba1c-cf095318425b",
   "metadata": {},
   "outputs": [
    {
     "data": {
      "text/html": [
       "<div>\n",
       "<style scoped>\n",
       "    .dataframe tbody tr th:only-of-type {\n",
       "        vertical-align: middle;\n",
       "    }\n",
       "\n",
       "    .dataframe tbody tr th {\n",
       "        vertical-align: top;\n",
       "    }\n",
       "\n",
       "    .dataframe thead tr th {\n",
       "        text-align: left;\n",
       "    }\n",
       "</style>\n",
       "<table border=\"1\" class=\"dataframe\">\n",
       "  <thead>\n",
       "    <tr>\n",
       "      <th></th>\n",
       "      <th>image_array</th>\n",
       "    </tr>\n",
       "  </thead>\n",
       "  <tbody>\n",
       "    <tr>\n",
       "      <th>10007</th>\n",
       "      <td>[[0, 1, 0, 24, 112, 109, 101, 100, 109, 113, 1...</td>\n",
       "    </tr>\n",
       "    <tr>\n",
       "      <th>12217</th>\n",
       "      <td>[[0, 0, 0, 0, 0, 0, 0, 0, 0, 0, 1, 2, 5, 10, 1...</td>\n",
       "    </tr>\n",
       "    <tr>\n",
       "      <th>4960</th>\n",
       "      <td>[[0, 5, 62, 71, 77, 99, 103, 99, 127, 132, 141...</td>\n",
       "    </tr>\n",
       "    <tr>\n",
       "      <th>6971</th>\n",
       "      <td>[[250, 252, 252, 255, 255, 255, 255, 255, 255,...</td>\n",
       "    </tr>\n",
       "    <tr>\n",
       "      <th>14817</th>\n",
       "      <td>[[1, 0, 0, 1, 1, 1, 2, 1, 3, 2, 0, 0, 0, 0, 0,...</td>\n",
       "    </tr>\n",
       "    <tr>\n",
       "      <th>...</th>\n",
       "      <td>...</td>\n",
       "    </tr>\n",
       "    <tr>\n",
       "      <th>14847</th>\n",
       "      <td>[[45, 42, 46, 46, 53, 43, 55, 68, 44, 42, 46, ...</td>\n",
       "    </tr>\n",
       "    <tr>\n",
       "      <th>15250</th>\n",
       "      <td>[[203, 139, 122, 59, 58, 58, 59, 89, 112, 99, ...</td>\n",
       "    </tr>\n",
       "    <tr>\n",
       "      <th>3308</th>\n",
       "      <td>[[0, 1, 11, 12, 12, 12, 12, 12, 14, 26, 106, 7...</td>\n",
       "    </tr>\n",
       "    <tr>\n",
       "      <th>185</th>\n",
       "      <td>[[0, 0, 0, 3, 14, 13, 7, 2, 2, 3, 4, 12, 22, 3...</td>\n",
       "    </tr>\n",
       "    <tr>\n",
       "      <th>9495</th>\n",
       "      <td>[[0, 5, 70, 83, 80, 59, 61, 79, 76, 74, 73, 65...</td>\n",
       "    </tr>\n",
       "  </tbody>\n",
       "</table>\n",
       "<p>3490 rows × 1 columns</p>\n",
       "</div>"
      ],
      "text/plain": [
       "                                             image_array\n",
       "10007  [[0, 1, 0, 24, 112, 109, 101, 100, 109, 113, 1...\n",
       "12217  [[0, 0, 0, 0, 0, 0, 0, 0, 0, 0, 1, 2, 5, 10, 1...\n",
       "4960   [[0, 5, 62, 71, 77, 99, 103, 99, 127, 132, 141...\n",
       "6971   [[250, 252, 252, 255, 255, 255, 255, 255, 255,...\n",
       "14817  [[1, 0, 0, 1, 1, 1, 2, 1, 3, 2, 0, 0, 0, 0, 0,...\n",
       "...                                                  ...\n",
       "14847  [[45, 42, 46, 46, 53, 43, 55, 68, 44, 42, 46, ...\n",
       "15250  [[203, 139, 122, 59, 58, 58, 59, 89, 112, 99, ...\n",
       "3308   [[0, 1, 11, 12, 12, 12, 12, 12, 14, 26, 106, 7...\n",
       "185    [[0, 0, 0, 3, 14, 13, 7, 2, 2, 3, 4, 12, 22, 3...\n",
       "9495   [[0, 5, 70, 83, 80, 59, 61, 79, 76, 74, 73, 65...\n",
       "\n",
       "[3490 rows x 1 columns]"
      ]
     },
     "execution_count": 39,
     "metadata": {},
     "output_type": "execute_result"
    }
   ],
   "source": [
    "img_array_val"
   ]
  },
  {
   "cell_type": "code",
   "execution_count": 40,
   "id": "b85b068a-918e-4eee-959d-b72a0a73b2bd",
   "metadata": {},
   "outputs": [
    {
     "data": {
      "text/html": [
       "<div>\n",
       "<style scoped>\n",
       "    .dataframe tbody tr th:only-of-type {\n",
       "        vertical-align: middle;\n",
       "    }\n",
       "\n",
       "    .dataframe tbody tr th {\n",
       "        vertical-align: top;\n",
       "    }\n",
       "\n",
       "    .dataframe thead tr th {\n",
       "        text-align: left;\n",
       "    }\n",
       "</style>\n",
       "<table border=\"1\" class=\"dataframe\">\n",
       "  <thead>\n",
       "    <tr>\n",
       "      <th></th>\n",
       "      <th>age_stage</th>\n",
       "    </tr>\n",
       "  </thead>\n",
       "  <tbody>\n",
       "    <tr>\n",
       "      <th>10007</th>\n",
       "      <td>7</td>\n",
       "    </tr>\n",
       "    <tr>\n",
       "      <th>12217</th>\n",
       "      <td>0</td>\n",
       "    </tr>\n",
       "    <tr>\n",
       "      <th>4960</th>\n",
       "      <td>0</td>\n",
       "    </tr>\n",
       "    <tr>\n",
       "      <th>6971</th>\n",
       "      <td>4</td>\n",
       "    </tr>\n",
       "    <tr>\n",
       "      <th>14817</th>\n",
       "      <td>7</td>\n",
       "    </tr>\n",
       "    <tr>\n",
       "      <th>...</th>\n",
       "      <td>...</td>\n",
       "    </tr>\n",
       "    <tr>\n",
       "      <th>14847</th>\n",
       "      <td>2</td>\n",
       "    </tr>\n",
       "    <tr>\n",
       "      <th>15250</th>\n",
       "      <td>1</td>\n",
       "    </tr>\n",
       "    <tr>\n",
       "      <th>3308</th>\n",
       "      <td>7</td>\n",
       "    </tr>\n",
       "    <tr>\n",
       "      <th>185</th>\n",
       "      <td>1</td>\n",
       "    </tr>\n",
       "    <tr>\n",
       "      <th>9495</th>\n",
       "      <td>4</td>\n",
       "    </tr>\n",
       "  </tbody>\n",
       "</table>\n",
       "<p>3490 rows × 1 columns</p>\n",
       "</div>"
      ],
      "text/plain": [
       "      age_stage\n",
       "10007         7\n",
       "12217         0\n",
       "4960          0\n",
       "6971          4\n",
       "14817         7\n",
       "...         ...\n",
       "14847         2\n",
       "15250         1\n",
       "3308          7\n",
       "185           1\n",
       "9495          4\n",
       "\n",
       "[3490 rows x 1 columns]"
      ]
     },
     "execution_count": 40,
     "metadata": {},
     "output_type": "execute_result"
    }
   ],
   "source": [
    "age_groups_val"
   ]
  },
  {
   "cell_type": "code",
   "execution_count": 41,
   "id": "1ca8ec72-df5b-4892-b138-e9359e0009db",
   "metadata": {},
   "outputs": [
    {
     "data": {
      "text/html": [
       "<div>\n",
       "<style scoped>\n",
       "    .dataframe tbody tr th:only-of-type {\n",
       "        vertical-align: middle;\n",
       "    }\n",
       "\n",
       "    .dataframe tbody tr th {\n",
       "        vertical-align: top;\n",
       "    }\n",
       "\n",
       "    .dataframe thead tr th {\n",
       "        text-align: left;\n",
       "    }\n",
       "</style>\n",
       "<table border=\"1\" class=\"dataframe\">\n",
       "  <thead>\n",
       "    <tr>\n",
       "      <th></th>\n",
       "      <th>gender</th>\n",
       "    </tr>\n",
       "  </thead>\n",
       "  <tbody>\n",
       "    <tr>\n",
       "      <th>10007</th>\n",
       "      <td>1</td>\n",
       "    </tr>\n",
       "    <tr>\n",
       "      <th>12217</th>\n",
       "      <td>0</td>\n",
       "    </tr>\n",
       "    <tr>\n",
       "      <th>4960</th>\n",
       "      <td>1</td>\n",
       "    </tr>\n",
       "    <tr>\n",
       "      <th>6971</th>\n",
       "      <td>1</td>\n",
       "    </tr>\n",
       "    <tr>\n",
       "      <th>14817</th>\n",
       "      <td>0</td>\n",
       "    </tr>\n",
       "    <tr>\n",
       "      <th>...</th>\n",
       "      <td>...</td>\n",
       "    </tr>\n",
       "    <tr>\n",
       "      <th>14847</th>\n",
       "      <td>1</td>\n",
       "    </tr>\n",
       "    <tr>\n",
       "      <th>15250</th>\n",
       "      <td>0</td>\n",
       "    </tr>\n",
       "    <tr>\n",
       "      <th>3308</th>\n",
       "      <td>1</td>\n",
       "    </tr>\n",
       "    <tr>\n",
       "      <th>185</th>\n",
       "      <td>0</td>\n",
       "    </tr>\n",
       "    <tr>\n",
       "      <th>9495</th>\n",
       "      <td>0</td>\n",
       "    </tr>\n",
       "  </tbody>\n",
       "</table>\n",
       "<p>3490 rows × 1 columns</p>\n",
       "</div>"
      ],
      "text/plain": [
       "      gender\n",
       "10007      1\n",
       "12217      0\n",
       "4960       1\n",
       "6971       1\n",
       "14817      0\n",
       "...      ...\n",
       "14847      1\n",
       "15250      0\n",
       "3308       1\n",
       "185        0\n",
       "9495       0\n",
       "\n",
       "[3490 rows x 1 columns]"
      ]
     },
     "execution_count": 41,
     "metadata": {},
     "output_type": "execute_result"
    }
   ],
   "source": [
    "gender_val"
   ]
  },
  {
   "cell_type": "markdown",
   "id": "032d0545-2715-4f11-b59a-decba48e26d5",
   "metadata": {},
   "source": [
    "## preserving 3 seperate pickle for train, val, test\n",
    "1. image array\n",
    "2. age stage\n",
    "3. gender"
   ]
  },
  {
   "cell_type": "code",
   "execution_count": 42,
   "id": "7051d98c-2804-40c9-bb2b-2d78eeed8eea",
   "metadata": {},
   "outputs": [
    {
     "data": {
      "text/plain": [
       "'/Users/liangkun/675_Project'"
      ]
     },
     "execution_count": 42,
     "metadata": {},
     "output_type": "execute_result"
    }
   ],
   "source": [
    "data_path"
   ]
  },
  {
   "cell_type": "code",
   "execution_count": 43,
   "id": "e8ada761-92b6-4b1c-b83b-37b996881e56",
   "metadata": {},
   "outputs": [],
   "source": [
    "# to pickle\n",
    "df_name = ['img_array_train','age_groups_train','gender_train','img_array_val','age_groups_val','gender_val','img_array_test','age_groups_test','gender_test']\n",
    "df_list = [img_array_train,age_groups_train,gender_train,img_array_val,age_groups_val,gender_val,img_array_test,age_groups_test,gender_test]\n",
    "for i in range(len(df_list)):\n",
    "    df_list[i].to_pickle(data_path + '/' + df_name[i] + '.pkl')\n"
   ]
  },
  {
   "cell_type": "code",
   "execution_count": 108,
   "id": "bfc8d319-70bf-4eb0-acb3-7e4112c88ce9",
   "metadata": {},
   "outputs": [
    {
     "data": {
      "text/html": [
       "<div>\n",
       "<style scoped>\n",
       "    .dataframe tbody tr th:only-of-type {\n",
       "        vertical-align: middle;\n",
       "    }\n",
       "\n",
       "    .dataframe tbody tr th {\n",
       "        vertical-align: top;\n",
       "    }\n",
       "\n",
       "    .dataframe thead tr th {\n",
       "        text-align: left;\n",
       "    }\n",
       "</style>\n",
       "<table border=\"1\" class=\"dataframe\">\n",
       "  <thead>\n",
       "    <tr>\n",
       "      <th></th>\n",
       "      <th>image_array</th>\n",
       "    </tr>\n",
       "  </thead>\n",
       "  <tbody>\n",
       "    <tr>\n",
       "      <th>9738</th>\n",
       "      <td>[[151, 152, 154, 154, 152, 149, 149, 151, 153,...</td>\n",
       "    </tr>\n",
       "    <tr>\n",
       "      <th>2043</th>\n",
       "      <td>[[49, 68, 74, 75, 66, 86, 102, 99, 131, 167, 1...</td>\n",
       "    </tr>\n",
       "    <tr>\n",
       "      <th>9262</th>\n",
       "      <td>[[0, 0, 0, 0, 0, 0, 0, 0, 0, 0, 0, 0, 0, 0, 0,...</td>\n",
       "    </tr>\n",
       "    <tr>\n",
       "      <th>7946</th>\n",
       "      <td>[[0, 0, 0, 0, 0, 0, 0, 0, 0, 0, 0, 0, 0, 0, 0,...</td>\n",
       "    </tr>\n",
       "    <tr>\n",
       "      <th>16875</th>\n",
       "      <td>[[0, 0, 0, 0, 0, 0, 0, 0, 0, 0, 0, 0, 0, 0, 0,...</td>\n",
       "    </tr>\n",
       "    <tr>\n",
       "      <th>...</th>\n",
       "      <td>...</td>\n",
       "    </tr>\n",
       "    <tr>\n",
       "      <th>11391</th>\n",
       "      <td>[[0, 0, 0, 0, 0, 0, 0, 0, 0, 0, 0, 0, 0, 0, 0,...</td>\n",
       "    </tr>\n",
       "    <tr>\n",
       "      <th>3080</th>\n",
       "      <td>[[0, 0, 0, 0, 0, 0, 0, 0, 0, 0, 0, 0, 0, 0, 0,...</td>\n",
       "    </tr>\n",
       "    <tr>\n",
       "      <th>5719</th>\n",
       "      <td>[[0, 0, 0, 0, 0, 0, 0, 0, 0, 0, 0, 0, 0, 0, 0,...</td>\n",
       "    </tr>\n",
       "    <tr>\n",
       "      <th>13247</th>\n",
       "      <td>[[163, 159, 157, 157, 155, 153, 156, 154, 163,...</td>\n",
       "    </tr>\n",
       "    <tr>\n",
       "      <th>9680</th>\n",
       "      <td>[[0, 0, 0, 0, 0, 0, 0, 0, 0, 0, 0, 0, 0, 0, 0,...</td>\n",
       "    </tr>\n",
       "  </tbody>\n",
       "</table>\n",
       "<p>10471 rows × 1 columns</p>\n",
       "</div>"
      ],
      "text/plain": [
       "                                             image_array\n",
       "9738   [[151, 152, 154, 154, 152, 149, 149, 151, 153,...\n",
       "2043   [[49, 68, 74, 75, 66, 86, 102, 99, 131, 167, 1...\n",
       "9262   [[0, 0, 0, 0, 0, 0, 0, 0, 0, 0, 0, 0, 0, 0, 0,...\n",
       "7946   [[0, 0, 0, 0, 0, 0, 0, 0, 0, 0, 0, 0, 0, 0, 0,...\n",
       "16875  [[0, 0, 0, 0, 0, 0, 0, 0, 0, 0, 0, 0, 0, 0, 0,...\n",
       "...                                                  ...\n",
       "11391  [[0, 0, 0, 0, 0, 0, 0, 0, 0, 0, 0, 0, 0, 0, 0,...\n",
       "3080   [[0, 0, 0, 0, 0, 0, 0, 0, 0, 0, 0, 0, 0, 0, 0,...\n",
       "5719   [[0, 0, 0, 0, 0, 0, 0, 0, 0, 0, 0, 0, 0, 0, 0,...\n",
       "13247  [[163, 159, 157, 157, 155, 153, 156, 154, 163,...\n",
       "9680   [[0, 0, 0, 0, 0, 0, 0, 0, 0, 0, 0, 0, 0, 0, 0,...\n",
       "\n",
       "[10471 rows x 1 columns]"
      ]
     },
     "execution_count": 108,
     "metadata": {},
     "output_type": "execute_result"
    }
   ],
   "source": [
    "# read on pickle to see if it works\n",
    "# df1=pd.read_pickle(data_path + \"/img_array.pkl\")\n",
    "# df2=pd.read_pickle(data_path + '/age_stage.pkl')\n",
    "# df3=pd.read_pickle(data_path + '/gender.pkl')\n",
    "df01 = pd.read_pickle(data_path + \"/img_array_train.pkl\")\n",
    "df01"
   ]
  },
  {
   "cell_type": "code",
   "execution_count": 107,
   "id": "fc590dc8-0e71-4a2c-9cde-9b41ebe7bda9",
   "metadata": {},
   "outputs": [
    {
     "data": {
      "text/html": [
       "<div>\n",
       "<style scoped>\n",
       "    .dataframe tbody tr th:only-of-type {\n",
       "        vertical-align: middle;\n",
       "    }\n",
       "\n",
       "    .dataframe tbody tr th {\n",
       "        vertical-align: top;\n",
       "    }\n",
       "\n",
       "    .dataframe thead tr th {\n",
       "        text-align: left;\n",
       "    }\n",
       "</style>\n",
       "<table border=\"1\" class=\"dataframe\">\n",
       "  <thead>\n",
       "    <tr>\n",
       "      <th></th>\n",
       "      <th>age_stage</th>\n",
       "    </tr>\n",
       "  </thead>\n",
       "  <tbody>\n",
       "    <tr>\n",
       "      <th>9738</th>\n",
       "      <td>2</td>\n",
       "    </tr>\n",
       "    <tr>\n",
       "      <th>2043</th>\n",
       "      <td>4</td>\n",
       "    </tr>\n",
       "    <tr>\n",
       "      <th>9262</th>\n",
       "      <td>4</td>\n",
       "    </tr>\n",
       "    <tr>\n",
       "      <th>7946</th>\n",
       "      <td>1</td>\n",
       "    </tr>\n",
       "    <tr>\n",
       "      <th>16875</th>\n",
       "      <td>4</td>\n",
       "    </tr>\n",
       "    <tr>\n",
       "      <th>...</th>\n",
       "      <td>...</td>\n",
       "    </tr>\n",
       "    <tr>\n",
       "      <th>11391</th>\n",
       "      <td>4</td>\n",
       "    </tr>\n",
       "    <tr>\n",
       "      <th>3080</th>\n",
       "      <td>5</td>\n",
       "    </tr>\n",
       "    <tr>\n",
       "      <th>5719</th>\n",
       "      <td>5</td>\n",
       "    </tr>\n",
       "    <tr>\n",
       "      <th>13247</th>\n",
       "      <td>5</td>\n",
       "    </tr>\n",
       "    <tr>\n",
       "      <th>9680</th>\n",
       "      <td>2</td>\n",
       "    </tr>\n",
       "  </tbody>\n",
       "</table>\n",
       "<p>10471 rows × 1 columns</p>\n",
       "</div>"
      ],
      "text/plain": [
       "      age_stage\n",
       "9738          2\n",
       "2043          4\n",
       "9262          4\n",
       "7946          1\n",
       "16875         4\n",
       "...         ...\n",
       "11391         4\n",
       "3080          5\n",
       "5719          5\n",
       "13247         5\n",
       "9680          2\n",
       "\n",
       "[10471 rows x 1 columns]"
      ]
     },
     "execution_count": 107,
     "metadata": {},
     "output_type": "execute_result"
    }
   ],
   "source": [
    "df02 = pd.read_pickle(data_path + \"/age_groups_train.pkl\")\n",
    "df02"
   ]
  },
  {
   "cell_type": "markdown",
   "id": "9980d686-f6d2-4d10-9e6c-85da34c3003d",
   "metadata": {},
   "source": [
    "# check if they can be img.plot"
   ]
  },
  {
   "cell_type": "code",
   "execution_count": 109,
   "id": "aef1cf54-f3d6-4062-97c5-6ed1305a6f11",
   "metadata": {},
   "outputs": [
    {
     "data": {
      "text/plain": [
       "array([[ 61,  62,  64, ..., 143, 143, 140],\n",
       "       [ 59,  60,  62, ..., 141, 142, 140],\n",
       "       [ 58,  57,  60, ..., 139, 140, 139],\n",
       "       ...,\n",
       "       [219, 219, 216, ..., 150, 143, 139],\n",
       "       [220, 217, 215, ..., 158, 151, 146],\n",
       "       [222, 217, 216, ..., 166, 163, 155]], dtype=uint8)"
      ]
     },
     "execution_count": 109,
     "metadata": {},
     "output_type": "execute_result"
    }
   ],
   "source": [
    "df01.iloc[9][0]"
   ]
  },
  {
   "cell_type": "code",
   "execution_count": 113,
   "id": "525020ab-cae1-4ec1-b16b-c9c8a11f015a",
   "metadata": {},
   "outputs": [
    {
     "data": {
      "text/plain": [
       "<matplotlib.image.AxesImage at 0x7ff23d0a0280>"
      ]
     },
     "execution_count": 113,
     "metadata": {},
     "output_type": "execute_result"
    },
    {
     "data": {
      "image/png": "[encoded data removed]",
      "text/plain": [
       "<Figure size 432x288 with 1 Axes>"
      ]
     },
     "metadata": {
      "needs_background": "light"
     },
     "output_type": "display_data"
    }
   ],
   "source": [
    "# checked\n",
    "plt.imshow(df01.iloc[100][0],cmap='gray')"
   ]
  },
  {
   "cell_type": "code",
   "execution_count": null,
   "id": "ba3f21fe-cc43-4f8e-9f63-d29c4544f357",
   "metadata": {},
   "outputs": [],
   "source": []
  }
 ],
 "metadata": {
  "kernelspec": {
   "display_name": "Python 3",
   "language": "python",
   "name": "python3"
  },
  "language_info": {
   "codemirror_mode": {
    "name": "ipython",
    "version": 3
   },
   "file_extension": ".py",
   "mimetype": "text/x-python",
   "name": "python",
   "nbconvert_exporter": "python",
   "pygments_lexer": "ipython3",
   "version": "3.8.8"
  }
 },
 "nbformat": 4,
 "nbformat_minor": 5
}
